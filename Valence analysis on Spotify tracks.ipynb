{
 "cells": [
  {
   "cell_type": "markdown",
   "id": "87461deb",
   "metadata": {},
   "source": [
    "# Valence analysis on Spotify tracks\n",
    "___\n",
    "> Iraklis Chatzinikolaou"
   ]
  },
  {
   "cell_type": "markdown",
   "id": "2e27ef13",
   "metadata": {},
   "source": [
    "## Data Preprocessing"
   ]
  },
  {
   "cell_type": "code",
   "execution_count": 1,
   "id": "f9e28f97",
   "metadata": {},
   "outputs": [],
   "source": [
    "import pandas as pd\n",
    "import numpy as np\n",
    "import scipy.stats as stats\n",
    "import statsmodels.api as sm\n",
    "import statsmodels.formula.api as smf\n",
    "\n",
    "import glob\n",
    "import re\n",
    "from datetime import datetime\n",
    "\n",
    "import spotipy\n",
    "from spotipy.oauth2 import SpotifyClientCredentials\n",
    "\n",
    "import matplotlib.pyplot as plt\n",
    "import seaborn as sns\n",
    "\n",
    "%matplotlib inline"
   ]
  },
  {
   "cell_type": "markdown",
   "id": "fd014d67",
   "metadata": {},
   "source": [
    "- We unzip the files and create a dataframe"
   ]
  },
  {
   "cell_type": "code",
   "execution_count": 2,
   "id": "774e2a88",
   "metadata": {},
   "outputs": [],
   "source": [
    "header = 0\n",
    "dfs = []\n",
    "for file in glob.glob('charts/Charts/*/201?/*.csv'):\n",
    "    region = file.split('\\\\')[1] #split \n",
    "    dates = re.findall('\\d{4}-\\d{2}-\\d{2}', file.split('\\\\')[-1])\n",
    "    weekly_chart = pd.read_csv(file, header=header, sep='\\t')\n",
    "    weekly_chart['week_start'] = datetime.strptime(dates[0], '%Y-%m-%d')\n",
    "    weekly_chart['week_end'] = datetime.strptime(dates[1], '%Y-%m-%d')\n",
    "    weekly_chart['region'] = region\n",
    "    dfs.append(weekly_chart)\n",
    "    \n",
    "all_charts = pd.concat(dfs)    \n"
   ]
  },
  {
   "cell_type": "code",
   "execution_count": 3,
   "id": "b1216a56",
   "metadata": {},
   "outputs": [
    {
     "data": {
      "text/html": [
       "<div>\n",
       "<style scoped>\n",
       "    .dataframe tbody tr th:only-of-type {\n",
       "        vertical-align: middle;\n",
       "    }\n",
       "\n",
       "    .dataframe tbody tr th {\n",
       "        vertical-align: top;\n",
       "    }\n",
       "\n",
       "    .dataframe thead th {\n",
       "        text-align: right;\n",
       "    }\n",
       "</style>\n",
       "<table border=\"1\" class=\"dataframe\">\n",
       "  <thead>\n",
       "    <tr style=\"text-align: right;\">\n",
       "      <th></th>\n",
       "      <th>position</th>\n",
       "      <th>song_id</th>\n",
       "      <th>song_name</th>\n",
       "      <th>artist</th>\n",
       "      <th>streams</th>\n",
       "      <th>last_week_position</th>\n",
       "      <th>weeks_on_chart</th>\n",
       "      <th>peak_position</th>\n",
       "      <th>position_status</th>\n",
       "      <th>week_start</th>\n",
       "      <th>week_end</th>\n",
       "      <th>region</th>\n",
       "    </tr>\n",
       "  </thead>\n",
       "  <tbody>\n",
       "    <tr>\n",
       "      <th>0</th>\n",
       "      <td>1</td>\n",
       "      <td>5aAx2yezTd8zXrkmtKl66Z</td>\n",
       "      <td>Starboy</td>\n",
       "      <td>The Weeknd</td>\n",
       "      <td>947261</td>\n",
       "      <td>NaN</td>\n",
       "      <td>1</td>\n",
       "      <td>1</td>\n",
       "      <td>new</td>\n",
       "      <td>2016-12-30</td>\n",
       "      <td>2017-01-06</td>\n",
       "      <td>au</td>\n",
       "    </tr>\n",
       "    <tr>\n",
       "      <th>1</th>\n",
       "      <td>2</td>\n",
       "      <td>5knuzwU65gJK7IF5yJsuaW</td>\n",
       "      <td>Rockabye (feat. Sean Paul &amp; Anne-Marie)</td>\n",
       "      <td>Clean Bandit</td>\n",
       "      <td>893107</td>\n",
       "      <td>NaN</td>\n",
       "      <td>1</td>\n",
       "      <td>2</td>\n",
       "      <td>new</td>\n",
       "      <td>2016-12-30</td>\n",
       "      <td>2017-01-06</td>\n",
       "      <td>au</td>\n",
       "    </tr>\n",
       "    <tr>\n",
       "      <th>2</th>\n",
       "      <td>3</td>\n",
       "      <td>7BKLCZ1jbUBVqRi2FVlTVw</td>\n",
       "      <td>Closer</td>\n",
       "      <td>The Chainsmokers</td>\n",
       "      <td>871617</td>\n",
       "      <td>NaN</td>\n",
       "      <td>1</td>\n",
       "      <td>3</td>\n",
       "      <td>new</td>\n",
       "      <td>2016-12-30</td>\n",
       "      <td>2017-01-06</td>\n",
       "      <td>au</td>\n",
       "    </tr>\n",
       "    <tr>\n",
       "      <th>3</th>\n",
       "      <td>4</td>\n",
       "      <td>3NdDpSvN911VPGivFlV5d0</td>\n",
       "      <td>I Don’t Wanna Live Forever (Fifty Shades Darke...</td>\n",
       "      <td>ZAYN</td>\n",
       "      <td>791592</td>\n",
       "      <td>NaN</td>\n",
       "      <td>1</td>\n",
       "      <td>4</td>\n",
       "      <td>new</td>\n",
       "      <td>2016-12-30</td>\n",
       "      <td>2017-01-06</td>\n",
       "      <td>au</td>\n",
       "    </tr>\n",
       "    <tr>\n",
       "      <th>4</th>\n",
       "      <td>5</td>\n",
       "      <td>78rIJddV4X0HkNAInEcYde</td>\n",
       "      <td>Call On Me - Ryan Riback Extended Remix</td>\n",
       "      <td>Starley</td>\n",
       "      <td>743490</td>\n",
       "      <td>NaN</td>\n",
       "      <td>1</td>\n",
       "      <td>5</td>\n",
       "      <td>new</td>\n",
       "      <td>2016-12-30</td>\n",
       "      <td>2017-01-06</td>\n",
       "      <td>au</td>\n",
       "    </tr>\n",
       "  </tbody>\n",
       "</table>\n",
       "</div>"
      ],
      "text/plain": [
       "   position                 song_id  \\\n",
       "0         1  5aAx2yezTd8zXrkmtKl66Z   \n",
       "1         2  5knuzwU65gJK7IF5yJsuaW   \n",
       "2         3  7BKLCZ1jbUBVqRi2FVlTVw   \n",
       "3         4  3NdDpSvN911VPGivFlV5d0   \n",
       "4         5  78rIJddV4X0HkNAInEcYde   \n",
       "\n",
       "                                           song_name            artist  \\\n",
       "0                                            Starboy        The Weeknd   \n",
       "1            Rockabye (feat. Sean Paul & Anne-Marie)      Clean Bandit   \n",
       "2                                             Closer  The Chainsmokers   \n",
       "3  I Don’t Wanna Live Forever (Fifty Shades Darke...              ZAYN   \n",
       "4            Call On Me - Ryan Riback Extended Remix           Starley   \n",
       "\n",
       "   streams  last_week_position  weeks_on_chart  peak_position position_status  \\\n",
       "0   947261                 NaN               1              1             new   \n",
       "1   893107                 NaN               1              2             new   \n",
       "2   871617                 NaN               1              3             new   \n",
       "3   791592                 NaN               1              4             new   \n",
       "4   743490                 NaN               1              5             new   \n",
       "\n",
       "  week_start   week_end region  \n",
       "0 2016-12-30 2017-01-06     au  \n",
       "1 2016-12-30 2017-01-06     au  \n",
       "2 2016-12-30 2017-01-06     au  \n",
       "3 2016-12-30 2017-01-06     au  \n",
       "4 2016-12-30 2017-01-06     au  "
      ]
     },
     "execution_count": 3,
     "metadata": {},
     "output_type": "execute_result"
    }
   ],
   "source": [
    "all_charts.head()"
   ]
  },
  {
   "cell_type": "markdown",
   "id": "df5340dd",
   "metadata": {},
   "source": [
    "- The above is the list of tracks we want to predict the valence of. We check its unique tracks"
   ]
  },
  {
   "cell_type": "code",
   "execution_count": 4,
   "id": "7e0da194",
   "metadata": {},
   "outputs": [
    {
     "data": {
      "text/plain": [
       "13880"
      ]
     },
     "execution_count": 4,
     "metadata": {},
     "output_type": "execute_result"
    }
   ],
   "source": [
    "all_charts['song_id'].nunique()"
   ]
  },
  {
   "cell_type": "markdown",
   "id": "ff1b4d64",
   "metadata": {},
   "source": [
    "-  A `spotify_config.py` file is created with the following:<br>\n",
    "      <code>config = {\n",
    "          'client_id' : 'XXXXXXXXXXXXXXXXXXXXXXXXXXXXXXXX',\n",
    "          'client_secret' :'XXXXXXXXXXXXXXXXXXXXXXXXXXXXXXXX'\n",
    "     }<code>\n",
    "    \n",
    "- We use the Spotify API via the [Spotipy](https://spotipy.readthedocs.io/en/2.22.1/) library "
   ]
  },
  {
   "cell_type": "code",
   "execution_count": 4,
   "id": "f2be125a",
   "metadata": {},
   "outputs": [],
   "source": [
    "from spotify_config import config\n",
    "\n",
    "client_credentials_manager = SpotifyClientCredentials(config['client_id'],\n",
    "                                                      config['client_secret'])\n",
    "sp = spotipy.Spotify(client_credentials_manager=client_credentials_manager)"
   ]
  },
  {
   "cell_type": "code",
   "execution_count": 5,
   "id": "1d7eb104",
   "metadata": {},
   "outputs": [
    {
     "name": "stdout",
     "output_type": "stream",
     "text": [
      "getting from 0 to 100\n",
      "getting from 100 to 200\n",
      "getting from 200 to 300\n",
      "getting from 300 to 400\n",
      "getting from 400 to 500\n",
      "getting from 500 to 600\n",
      "getting from 600 to 700\n",
      "getting from 700 to 800\n",
      "getting from 800 to 900\n",
      "getting from 900 to 1000\n",
      "getting from 1000 to 1100\n",
      "getting from 1100 to 1200\n",
      "getting from 1200 to 1300\n",
      "getting from 1300 to 1400\n",
      "getting from 1400 to 1500\n",
      "getting from 1500 to 1600\n",
      "getting from 1600 to 1700\n",
      "getting from 1700 to 1800\n",
      "getting from 1800 to 1900\n",
      "getting from 1900 to 2000\n",
      "getting from 2000 to 2100\n",
      "getting from 2100 to 2200\n",
      "getting from 2200 to 2300\n",
      "getting from 2300 to 2400\n",
      "getting from 2400 to 2500\n",
      "getting from 2500 to 2600\n",
      "getting from 2600 to 2700\n",
      "getting from 2700 to 2800\n",
      "getting from 2800 to 2900\n",
      "getting from 2900 to 3000\n",
      "getting from 3000 to 3100\n",
      "getting from 3100 to 3200\n",
      "getting from 3200 to 3300\n",
      "getting from 3300 to 3400\n",
      "getting from 3400 to 3500\n",
      "getting from 3500 to 3600\n",
      "getting from 3600 to 3700\n",
      "getting from 3700 to 3800\n",
      "getting from 3800 to 3900\n",
      "getting from 3900 to 4000\n",
      "getting from 4000 to 4100\n",
      "getting from 4100 to 4200\n",
      "getting from 4200 to 4300\n",
      "getting from 4300 to 4400\n",
      "getting from 4400 to 4500\n",
      "getting from 4500 to 4600\n",
      "getting from 4600 to 4700\n",
      "getting from 4700 to 4800\n",
      "getting from 4800 to 4900\n",
      "getting from 4900 to 5000\n",
      "getting from 5000 to 5100\n",
      "getting from 5100 to 5200\n",
      "getting from 5200 to 5300\n",
      "getting from 5300 to 5400\n",
      "getting from 5400 to 5500\n",
      "getting from 5500 to 5600\n",
      "getting from 5600 to 5700\n",
      "getting from 5700 to 5800\n",
      "getting from 5800 to 5900\n",
      "getting from 5900 to 6000\n",
      "getting from 6000 to 6100\n",
      "getting from 6100 to 6200\n",
      "getting from 6200 to 6300\n",
      "getting from 6300 to 6400\n",
      "getting from 6400 to 6500\n",
      "getting from 6500 to 6600\n",
      "getting from 6600 to 6700\n",
      "getting from 6700 to 6800\n",
      "getting from 6800 to 6900\n",
      "getting from 6900 to 7000\n",
      "getting from 7000 to 7100\n",
      "getting from 7100 to 7200\n",
      "getting from 7200 to 7300\n",
      "getting from 7300 to 7400\n",
      "getting from 7400 to 7500\n",
      "getting from 7500 to 7600\n",
      "getting from 7600 to 7700\n",
      "getting from 7700 to 7800\n",
      "getting from 7800 to 7900\n",
      "getting from 7900 to 8000\n",
      "getting from 8000 to 8100\n",
      "getting from 8100 to 8200\n",
      "getting from 8200 to 8300\n",
      "getting from 8300 to 8400\n",
      "getting from 8400 to 8500\n",
      "getting from 8500 to 8600\n",
      "getting from 8600 to 8700\n",
      "getting from 8700 to 8800\n",
      "getting from 8800 to 8900\n",
      "getting from 8900 to 9000\n",
      "getting from 9000 to 9100\n",
      "getting from 9100 to 9200\n",
      "getting from 9200 to 9300\n",
      "getting from 9300 to 9400\n",
      "getting from 9400 to 9500\n",
      "getting from 9500 to 9600\n",
      "getting from 9600 to 9700\n",
      "getting from 9700 to 9800\n",
      "getting from 9800 to 9900\n",
      "getting from 9900 to 10000\n",
      "getting from 10000 to 10100\n",
      "getting from 10100 to 10200\n",
      "getting from 10200 to 10300\n",
      "getting from 10300 to 10400\n",
      "getting from 10400 to 10500\n",
      "getting from 10500 to 10600\n",
      "getting from 10600 to 10700\n",
      "getting from 10700 to 10800\n",
      "getting from 10800 to 10900\n",
      "getting from 10900 to 11000\n",
      "getting from 11000 to 11100\n",
      "getting from 11100 to 11200\n",
      "getting from 11200 to 11300\n",
      "getting from 11300 to 11400\n",
      "getting from 11400 to 11500\n",
      "getting from 11500 to 11600\n",
      "getting from 11600 to 11700\n",
      "getting from 11700 to 11800\n",
      "getting from 11800 to 11900\n",
      "getting from 11900 to 12000\n",
      "getting from 12000 to 12100\n",
      "getting from 12100 to 12200\n",
      "getting from 12200 to 12300\n",
      "getting from 12300 to 12400\n",
      "getting from 12400 to 12500\n",
      "getting from 12500 to 12600\n",
      "getting from 12600 to 12700\n",
      "getting from 12700 to 12800\n",
      "getting from 12800 to 12900\n",
      "getting from 12900 to 13000\n",
      "getting from 13000 to 13100\n",
      "getting from 13100 to 13200\n",
      "getting from 13200 to 13300\n",
      "getting from 13300 to 13400\n",
      "getting from 13400 to 13500\n",
      "getting from 13500 to 13600\n",
      "getting from 13600 to 13700\n",
      "getting from 13700 to 13800\n",
      "getting from 13800 to 13900\n"
     ]
    }
   ],
   "source": [
    "features = {}\n",
    "\n",
    "all_track_ids = list(all_charts['song_id'].unique())\n",
    "start=0\n",
    "num_tracks = 100\n",
    "while start < len(all_track_ids):\n",
    "    print(f'getting from {start} to {start+num_tracks}')\n",
    "    tracks_batch = all_track_ids[start:start+num_tracks]\n",
    "    features_batch = sp.audio_features(tracks_batch)\n",
    "    features.update({track_id : track_features for track_id, track_features in zip(tracks_batch, features_batch)})\n",
    "    start += num_tracks"
   ]
  },
  {
   "cell_type": "code",
   "execution_count": 6,
   "id": "295813fe",
   "metadata": {},
   "outputs": [
    {
     "data": {
      "text/plain": [
       "13880"
      ]
     },
     "execution_count": 6,
     "metadata": {},
     "output_type": "execute_result"
    }
   ],
   "source": [
    "#check if we got all of the tracks\n",
    "len(features)"
   ]
  },
  {
   "cell_type": "markdown",
   "id": "192558ce",
   "metadata": {},
   "source": [
    "- Since the above are dictionaries we convert them to dataframe\n",
    "- We set the id index as a column and match its name with the one of all_charts"
   ]
  },
  {
   "cell_type": "code",
   "execution_count": 7,
   "id": "f2dc0d5d",
   "metadata": {},
   "outputs": [
    {
     "data": {
      "text/html": [
       "<div>\n",
       "<style scoped>\n",
       "    .dataframe tbody tr th:only-of-type {\n",
       "        vertical-align: middle;\n",
       "    }\n",
       "\n",
       "    .dataframe tbody tr th {\n",
       "        vertical-align: top;\n",
       "    }\n",
       "\n",
       "    .dataframe thead th {\n",
       "        text-align: right;\n",
       "    }\n",
       "</style>\n",
       "<table border=\"1\" class=\"dataframe\">\n",
       "  <thead>\n",
       "    <tr style=\"text-align: right;\">\n",
       "      <th></th>\n",
       "      <th>danceability</th>\n",
       "      <th>energy</th>\n",
       "      <th>key</th>\n",
       "      <th>loudness</th>\n",
       "      <th>mode</th>\n",
       "      <th>speechiness</th>\n",
       "      <th>acousticness</th>\n",
       "      <th>instrumentalness</th>\n",
       "      <th>liveness</th>\n",
       "      <th>valence</th>\n",
       "      <th>tempo</th>\n",
       "      <th>type</th>\n",
       "      <th>song_id</th>\n",
       "      <th>uri</th>\n",
       "      <th>track_href</th>\n",
       "      <th>analysis_url</th>\n",
       "      <th>duration_ms</th>\n",
       "      <th>time_signature</th>\n",
       "    </tr>\n",
       "  </thead>\n",
       "  <tbody>\n",
       "    <tr>\n",
       "      <th>0</th>\n",
       "      <td>0.681</td>\n",
       "      <td>0.594</td>\n",
       "      <td>7</td>\n",
       "      <td>-7.028</td>\n",
       "      <td>1</td>\n",
       "      <td>0.2820</td>\n",
       "      <td>0.1650</td>\n",
       "      <td>0.000003</td>\n",
       "      <td>0.134</td>\n",
       "      <td>0.5350</td>\n",
       "      <td>186.054</td>\n",
       "      <td>audio_features</td>\n",
       "      <td>5aAx2yezTd8zXrkmtKl66Z</td>\n",
       "      <td>spotify:track:5aAx2yezTd8zXrkmtKl66Z</td>\n",
       "      <td>https://api.spotify.com/v1/tracks/5aAx2yezTd8z...</td>\n",
       "      <td>https://api.spotify.com/v1/audio-analysis/5aAx...</td>\n",
       "      <td>230453</td>\n",
       "      <td>4</td>\n",
       "    </tr>\n",
       "    <tr>\n",
       "      <th>1</th>\n",
       "      <td>0.720</td>\n",
       "      <td>0.763</td>\n",
       "      <td>9</td>\n",
       "      <td>-4.068</td>\n",
       "      <td>0</td>\n",
       "      <td>0.0523</td>\n",
       "      <td>0.4060</td>\n",
       "      <td>0.000000</td>\n",
       "      <td>0.180</td>\n",
       "      <td>0.7420</td>\n",
       "      <td>101.965</td>\n",
       "      <td>audio_features</td>\n",
       "      <td>5knuzwU65gJK7IF5yJsuaW</td>\n",
       "      <td>spotify:track:5knuzwU65gJK7IF5yJsuaW</td>\n",
       "      <td>https://api.spotify.com/v1/tracks/5knuzwU65gJK...</td>\n",
       "      <td>https://api.spotify.com/v1/audio-analysis/5knu...</td>\n",
       "      <td>251088</td>\n",
       "      <td>4</td>\n",
       "    </tr>\n",
       "    <tr>\n",
       "      <th>2</th>\n",
       "      <td>0.748</td>\n",
       "      <td>0.524</td>\n",
       "      <td>8</td>\n",
       "      <td>-5.599</td>\n",
       "      <td>1</td>\n",
       "      <td>0.0338</td>\n",
       "      <td>0.4140</td>\n",
       "      <td>0.000000</td>\n",
       "      <td>0.111</td>\n",
       "      <td>0.6610</td>\n",
       "      <td>95.010</td>\n",
       "      <td>audio_features</td>\n",
       "      <td>7BKLCZ1jbUBVqRi2FVlTVw</td>\n",
       "      <td>spotify:track:7BKLCZ1jbUBVqRi2FVlTVw</td>\n",
       "      <td>https://api.spotify.com/v1/tracks/7BKLCZ1jbUBV...</td>\n",
       "      <td>https://api.spotify.com/v1/audio-analysis/7BKL...</td>\n",
       "      <td>244960</td>\n",
       "      <td>4</td>\n",
       "    </tr>\n",
       "    <tr>\n",
       "      <th>3</th>\n",
       "      <td>0.735</td>\n",
       "      <td>0.451</td>\n",
       "      <td>0</td>\n",
       "      <td>-8.374</td>\n",
       "      <td>1</td>\n",
       "      <td>0.0585</td>\n",
       "      <td>0.0631</td>\n",
       "      <td>0.000013</td>\n",
       "      <td>0.325</td>\n",
       "      <td>0.0862</td>\n",
       "      <td>117.973</td>\n",
       "      <td>audio_features</td>\n",
       "      <td>3NdDpSvN911VPGivFlV5d0</td>\n",
       "      <td>spotify:track:3NdDpSvN911VPGivFlV5d0</td>\n",
       "      <td>https://api.spotify.com/v1/tracks/3NdDpSvN911V...</td>\n",
       "      <td>https://api.spotify.com/v1/audio-analysis/3NdD...</td>\n",
       "      <td>245200</td>\n",
       "      <td>4</td>\n",
       "    </tr>\n",
       "    <tr>\n",
       "      <th>4</th>\n",
       "      <td>0.670</td>\n",
       "      <td>0.838</td>\n",
       "      <td>0</td>\n",
       "      <td>-4.031</td>\n",
       "      <td>1</td>\n",
       "      <td>0.0362</td>\n",
       "      <td>0.0604</td>\n",
       "      <td>0.000611</td>\n",
       "      <td>0.159</td>\n",
       "      <td>0.7170</td>\n",
       "      <td>104.998</td>\n",
       "      <td>audio_features</td>\n",
       "      <td>78rIJddV4X0HkNAInEcYde</td>\n",
       "      <td>spotify:track:78rIJddV4X0HkNAInEcYde</td>\n",
       "      <td>https://api.spotify.com/v1/tracks/78rIJddV4X0H...</td>\n",
       "      <td>https://api.spotify.com/v1/audio-analysis/78rI...</td>\n",
       "      <td>222041</td>\n",
       "      <td>4</td>\n",
       "    </tr>\n",
       "  </tbody>\n",
       "</table>\n",
       "</div>"
      ],
      "text/plain": [
       "   danceability  energy  key  loudness  mode  speechiness  acousticness  \\\n",
       "0         0.681   0.594    7    -7.028     1       0.2820        0.1650   \n",
       "1         0.720   0.763    9    -4.068     0       0.0523        0.4060   \n",
       "2         0.748   0.524    8    -5.599     1       0.0338        0.4140   \n",
       "3         0.735   0.451    0    -8.374     1       0.0585        0.0631   \n",
       "4         0.670   0.838    0    -4.031     1       0.0362        0.0604   \n",
       "\n",
       "   instrumentalness  liveness  valence    tempo            type  \\\n",
       "0          0.000003     0.134   0.5350  186.054  audio_features   \n",
       "1          0.000000     0.180   0.7420  101.965  audio_features   \n",
       "2          0.000000     0.111   0.6610   95.010  audio_features   \n",
       "3          0.000013     0.325   0.0862  117.973  audio_features   \n",
       "4          0.000611     0.159   0.7170  104.998  audio_features   \n",
       "\n",
       "                  song_id                                   uri  \\\n",
       "0  5aAx2yezTd8zXrkmtKl66Z  spotify:track:5aAx2yezTd8zXrkmtKl66Z   \n",
       "1  5knuzwU65gJK7IF5yJsuaW  spotify:track:5knuzwU65gJK7IF5yJsuaW   \n",
       "2  7BKLCZ1jbUBVqRi2FVlTVw  spotify:track:7BKLCZ1jbUBVqRi2FVlTVw   \n",
       "3  3NdDpSvN911VPGivFlV5d0  spotify:track:3NdDpSvN911VPGivFlV5d0   \n",
       "4  78rIJddV4X0HkNAInEcYde  spotify:track:78rIJddV4X0HkNAInEcYde   \n",
       "\n",
       "                                          track_href  \\\n",
       "0  https://api.spotify.com/v1/tracks/5aAx2yezTd8z...   \n",
       "1  https://api.spotify.com/v1/tracks/5knuzwU65gJK...   \n",
       "2  https://api.spotify.com/v1/tracks/7BKLCZ1jbUBV...   \n",
       "3  https://api.spotify.com/v1/tracks/3NdDpSvN911V...   \n",
       "4  https://api.spotify.com/v1/tracks/78rIJddV4X0H...   \n",
       "\n",
       "                                        analysis_url  duration_ms  \\\n",
       "0  https://api.spotify.com/v1/audio-analysis/5aAx...       230453   \n",
       "1  https://api.spotify.com/v1/audio-analysis/5knu...       251088   \n",
       "2  https://api.spotify.com/v1/audio-analysis/7BKL...       244960   \n",
       "3  https://api.spotify.com/v1/audio-analysis/3NdD...       245200   \n",
       "4  https://api.spotify.com/v1/audio-analysis/78rI...       222041   \n",
       "\n",
       "   time_signature  \n",
       "0               4  \n",
       "1               4  \n",
       "2               4  \n",
       "3               4  \n",
       "4               4  "
      ]
     },
     "execution_count": 7,
     "metadata": {},
     "output_type": "execute_result"
    }
   ],
   "source": [
    "tracks = pd.DataFrame.from_dict(features,orient='index')\n",
    "tracks = tracks.reset_index(drop=True).rename(columns={'id' : 'song_id'})\n",
    "tracks.head()"
   ]
  },
  {
   "cell_type": "markdown",
   "id": "817260bf",
   "metadata": {},
   "source": [
    "- Drop irrelevant and categorical columns\n",
    "- Check the info of the dataframe to only by numerical for our regression task"
   ]
  },
  {
   "cell_type": "code",
   "execution_count": 8,
   "id": "4759d8c3",
   "metadata": {},
   "outputs": [
    {
     "name": "stdout",
     "output_type": "stream",
     "text": [
      "<class 'pandas.core.frame.DataFrame'>\n",
      "RangeIndex: 13880 entries, 0 to 13879\n",
      "Data columns (total 14 columns):\n",
      " #   Column            Non-Null Count  Dtype  \n",
      "---  ------            --------------  -----  \n",
      " 0   danceability      13880 non-null  float64\n",
      " 1   energy            13880 non-null  float64\n",
      " 2   key               13880 non-null  int64  \n",
      " 3   loudness          13880 non-null  float64\n",
      " 4   mode              13880 non-null  int64  \n",
      " 5   speechiness       13880 non-null  float64\n",
      " 6   acousticness      13880 non-null  float64\n",
      " 7   instrumentalness  13880 non-null  float64\n",
      " 8   liveness          13880 non-null  float64\n",
      " 9   valence           13880 non-null  float64\n",
      " 10  tempo             13880 non-null  float64\n",
      " 11  song_id           13880 non-null  object \n",
      " 12  duration_ms       13880 non-null  int64  \n",
      " 13  time_signature    13880 non-null  int64  \n",
      "dtypes: float64(9), int64(4), object(1)\n",
      "memory usage: 1.5+ MB\n"
     ]
    }
   ],
   "source": [
    "tracks.drop([\"type\", \"uri\" , \"track_href\" , \"analysis_url\"], axis = 1, inplace = True)\n",
    "tracks.info()"
   ]
  },
  {
   "cell_type": "code",
   "execution_count": 11,
   "id": "1eadeaf3",
   "metadata": {},
   "outputs": [
    {
     "data": {
      "text/html": [
       "<div>\n",
       "<style scoped>\n",
       "    .dataframe tbody tr th:only-of-type {\n",
       "        vertical-align: middle;\n",
       "    }\n",
       "\n",
       "    .dataframe tbody tr th {\n",
       "        vertical-align: top;\n",
       "    }\n",
       "\n",
       "    .dataframe thead th {\n",
       "        text-align: right;\n",
       "    }\n",
       "</style>\n",
       "<table border=\"1\" class=\"dataframe\">\n",
       "  <thead>\n",
       "    <tr style=\"text-align: right;\">\n",
       "      <th></th>\n",
       "      <th>danceability</th>\n",
       "      <th>energy</th>\n",
       "      <th>key</th>\n",
       "      <th>loudness</th>\n",
       "      <th>mode</th>\n",
       "      <th>speechiness</th>\n",
       "      <th>acousticness</th>\n",
       "      <th>instrumentalness</th>\n",
       "      <th>liveness</th>\n",
       "      <th>valence</th>\n",
       "      <th>tempo</th>\n",
       "      <th>song_id</th>\n",
       "      <th>duration_ms</th>\n",
       "      <th>time_signature</th>\n",
       "    </tr>\n",
       "  </thead>\n",
       "  <tbody>\n",
       "    <tr>\n",
       "      <th>0</th>\n",
       "      <td>0.681</td>\n",
       "      <td>0.594</td>\n",
       "      <td>7</td>\n",
       "      <td>-7.028</td>\n",
       "      <td>1</td>\n",
       "      <td>0.2820</td>\n",
       "      <td>0.1650</td>\n",
       "      <td>0.000003</td>\n",
       "      <td>0.134</td>\n",
       "      <td>0.5350</td>\n",
       "      <td>186.054</td>\n",
       "      <td>5aAx2yezTd8zXrkmtKl66Z</td>\n",
       "      <td>230453</td>\n",
       "      <td>4</td>\n",
       "    </tr>\n",
       "    <tr>\n",
       "      <th>1</th>\n",
       "      <td>0.720</td>\n",
       "      <td>0.763</td>\n",
       "      <td>9</td>\n",
       "      <td>-4.068</td>\n",
       "      <td>0</td>\n",
       "      <td>0.0523</td>\n",
       "      <td>0.4060</td>\n",
       "      <td>0.000000</td>\n",
       "      <td>0.180</td>\n",
       "      <td>0.7420</td>\n",
       "      <td>101.965</td>\n",
       "      <td>5knuzwU65gJK7IF5yJsuaW</td>\n",
       "      <td>251088</td>\n",
       "      <td>4</td>\n",
       "    </tr>\n",
       "    <tr>\n",
       "      <th>2</th>\n",
       "      <td>0.748</td>\n",
       "      <td>0.524</td>\n",
       "      <td>8</td>\n",
       "      <td>-5.599</td>\n",
       "      <td>1</td>\n",
       "      <td>0.0338</td>\n",
       "      <td>0.4140</td>\n",
       "      <td>0.000000</td>\n",
       "      <td>0.111</td>\n",
       "      <td>0.6610</td>\n",
       "      <td>95.010</td>\n",
       "      <td>7BKLCZ1jbUBVqRi2FVlTVw</td>\n",
       "      <td>244960</td>\n",
       "      <td>4</td>\n",
       "    </tr>\n",
       "    <tr>\n",
       "      <th>3</th>\n",
       "      <td>0.735</td>\n",
       "      <td>0.451</td>\n",
       "      <td>0</td>\n",
       "      <td>-8.374</td>\n",
       "      <td>1</td>\n",
       "      <td>0.0585</td>\n",
       "      <td>0.0631</td>\n",
       "      <td>0.000013</td>\n",
       "      <td>0.325</td>\n",
       "      <td>0.0862</td>\n",
       "      <td>117.973</td>\n",
       "      <td>3NdDpSvN911VPGivFlV5d0</td>\n",
       "      <td>245200</td>\n",
       "      <td>4</td>\n",
       "    </tr>\n",
       "    <tr>\n",
       "      <th>4</th>\n",
       "      <td>0.670</td>\n",
       "      <td>0.838</td>\n",
       "      <td>0</td>\n",
       "      <td>-4.031</td>\n",
       "      <td>1</td>\n",
       "      <td>0.0362</td>\n",
       "      <td>0.0604</td>\n",
       "      <td>0.000611</td>\n",
       "      <td>0.159</td>\n",
       "      <td>0.7170</td>\n",
       "      <td>104.998</td>\n",
       "      <td>78rIJddV4X0HkNAInEcYde</td>\n",
       "      <td>222041</td>\n",
       "      <td>4</td>\n",
       "    </tr>\n",
       "  </tbody>\n",
       "</table>\n",
       "</div>"
      ],
      "text/plain": [
       "   danceability  energy  key  loudness  mode  speechiness  acousticness  \\\n",
       "0         0.681   0.594    7    -7.028     1       0.2820        0.1650   \n",
       "1         0.720   0.763    9    -4.068     0       0.0523        0.4060   \n",
       "2         0.748   0.524    8    -5.599     1       0.0338        0.4140   \n",
       "3         0.735   0.451    0    -8.374     1       0.0585        0.0631   \n",
       "4         0.670   0.838    0    -4.031     1       0.0362        0.0604   \n",
       "\n",
       "   instrumentalness  liveness  valence    tempo                 song_id  \\\n",
       "0          0.000003     0.134   0.5350  186.054  5aAx2yezTd8zXrkmtKl66Z   \n",
       "1          0.000000     0.180   0.7420  101.965  5knuzwU65gJK7IF5yJsuaW   \n",
       "2          0.000000     0.111   0.6610   95.010  7BKLCZ1jbUBVqRi2FVlTVw   \n",
       "3          0.000013     0.325   0.0862  117.973  3NdDpSvN911VPGivFlV5d0   \n",
       "4          0.000611     0.159   0.7170  104.998  78rIJddV4X0HkNAInEcYde   \n",
       "\n",
       "   duration_ms  time_signature  \n",
       "0       230453               4  \n",
       "1       251088               4  \n",
       "2       244960               4  \n",
       "3       245200               4  \n",
       "4       222041               4  "
      ]
     },
     "execution_count": 11,
     "metadata": {},
     "output_type": "execute_result"
    }
   ],
   "source": [
    "tracks.head()"
   ]
  },
  {
   "cell_type": "markdown",
   "id": "d86c2ccf",
   "metadata": {},
   "source": [
    "- Now we insert the test sample"
   ]
  },
  {
   "cell_type": "code",
   "execution_count": 9,
   "id": "83579377",
   "metadata": {},
   "outputs": [
    {
     "data": {
      "text/html": [
       "<div>\n",
       "<style scoped>\n",
       "    .dataframe tbody tr th:only-of-type {\n",
       "        vertical-align: middle;\n",
       "    }\n",
       "\n",
       "    .dataframe tbody tr th {\n",
       "        vertical-align: top;\n",
       "    }\n",
       "\n",
       "    .dataframe thead th {\n",
       "        text-align: right;\n",
       "    }\n",
       "</style>\n",
       "<table border=\"1\" class=\"dataframe\">\n",
       "  <thead>\n",
       "    <tr style=\"text-align: right;\">\n",
       "      <th></th>\n",
       "      <th>song_id</th>\n",
       "    </tr>\n",
       "  </thead>\n",
       "  <tbody>\n",
       "    <tr>\n",
       "      <th>0</th>\n",
       "      <td>7lPN2DXiMsVn7XUKtOW1CS</td>\n",
       "    </tr>\n",
       "    <tr>\n",
       "      <th>1</th>\n",
       "      <td>5QO79kh1waicV47BqGRL3g</td>\n",
       "    </tr>\n",
       "    <tr>\n",
       "      <th>2</th>\n",
       "      <td>0VjIjW4GlUZAMYd2vXMi3b</td>\n",
       "    </tr>\n",
       "    <tr>\n",
       "      <th>3</th>\n",
       "      <td>4MzXwWMhyBbmu6hOcLVD49</td>\n",
       "    </tr>\n",
       "    <tr>\n",
       "      <th>4</th>\n",
       "      <td>5Kskr9LcNYa0tpt5f0ZEJx</td>\n",
       "    </tr>\n",
       "  </tbody>\n",
       "</table>\n",
       "</div>"
      ],
      "text/plain": [
       "                  song_id\n",
       "0  7lPN2DXiMsVn7XUKtOW1CS\n",
       "1  5QO79kh1waicV47BqGRL3g\n",
       "2  0VjIjW4GlUZAMYd2vXMi3b\n",
       "3  4MzXwWMhyBbmu6hOcLVD49\n",
       "4  5Kskr9LcNYa0tpt5f0ZEJx"
      ]
     },
     "execution_count": 9,
     "metadata": {},
     "output_type": "execute_result"
    }
   ],
   "source": [
    "track_ids = pd.read_csv('spotify_ids.txt', header=None)\n",
    "track_ids = track_ids.rename(columns={0:'song_id'})\n",
    "track_ids.head()"
   ]
  },
  {
   "cell_type": "code",
   "execution_count": 13,
   "id": "db9370aa",
   "metadata": {},
   "outputs": [
    {
     "data": {
      "text/plain": [
       "song_id    1162\n",
       "dtype: int64"
      ]
     },
     "execution_count": 13,
     "metadata": {},
     "output_type": "execute_result"
    }
   ],
   "source": [
    "track_ids.nunique()"
   ]
  },
  {
   "cell_type": "code",
   "execution_count": 10,
   "id": "c82b45e7",
   "metadata": {},
   "outputs": [
    {
     "data": {
      "text/plain": [
       "1162"
      ]
     },
     "execution_count": 10,
     "metadata": {},
     "output_type": "execute_result"
    }
   ],
   "source": [
    "len(track_ids)"
   ]
  },
  {
   "cell_type": "markdown",
   "id": "291b1056",
   "metadata": {},
   "source": [
    "- We are gonna follow the same procedure like above "
   ]
  },
  {
   "cell_type": "code",
   "execution_count": 10,
   "id": "29f30847",
   "metadata": {},
   "outputs": [
    {
     "name": "stdout",
     "output_type": "stream",
     "text": [
      "getting from 0 to 100\n",
      "getting from 100 to 200\n",
      "getting from 200 to 300\n",
      "getting from 300 to 400\n",
      "getting from 400 to 500\n",
      "getting from 500 to 600\n",
      "getting from 600 to 700\n",
      "getting from 700 to 800\n",
      "getting from 800 to 900\n",
      "getting from 900 to 1000\n",
      "getting from 1000 to 1100\n",
      "getting from 1100 to 1200\n"
     ]
    }
   ],
   "source": [
    "features_test = {}\n",
    "\n",
    "tracks_ids = list(track_ids['song_id'])\n",
    "start=0\n",
    "num_tracks = 100\n",
    "while start < len(track_ids):\n",
    "    print(f'getting from {start} to {start+num_tracks}')\n",
    "    tracks_batch = tracks_ids[start:start+num_tracks]\n",
    "    features_batch = sp.audio_features(tracks_batch)\n",
    "    features_test.update({track_id : track_features for track_id, track_features in zip(tracks_batch, features_batch)})\n",
    "    start += num_tracks"
   ]
  },
  {
   "cell_type": "code",
   "execution_count": 11,
   "id": "1960eec5",
   "metadata": {},
   "outputs": [
    {
     "data": {
      "text/plain": [
       "1162"
      ]
     },
     "execution_count": 11,
     "metadata": {},
     "output_type": "execute_result"
    }
   ],
   "source": [
    "len(features_test)"
   ]
  },
  {
   "cell_type": "code",
   "execution_count": 17,
   "id": "26efe985",
   "metadata": {},
   "outputs": [
    {
     "data": {
      "text/plain": [
       "{'danceability': 0.907,\n",
       " 'energy': 0.393,\n",
       " 'key': 4,\n",
       " 'loudness': -7.636,\n",
       " 'mode': 0,\n",
       " 'speechiness': 0.0539,\n",
       " 'acousticness': 0.451,\n",
       " 'instrumentalness': 1.35e-06,\n",
       " 'liveness': 0.135,\n",
       " 'valence': 0.202,\n",
       " 'tempo': 104.949,\n",
       " 'type': 'audio_features',\n",
       " 'id': '5Kskr9LcNYa0tpt5f0ZEJx',\n",
       " 'uri': 'spotify:track:5Kskr9LcNYa0tpt5f0ZEJx',\n",
       " 'track_href': 'https://api.spotify.com/v1/tracks/5Kskr9LcNYa0tpt5f0ZEJx',\n",
       " 'analysis_url': 'https://api.spotify.com/v1/audio-analysis/5Kskr9LcNYa0tpt5f0ZEJx',\n",
       " 'duration_ms': 205458,\n",
       " 'time_signature': 4}"
      ]
     },
     "execution_count": 17,
     "metadata": {},
     "output_type": "execute_result"
    }
   ],
   "source": [
    "features_test['5Kskr9LcNYa0tpt5f0ZEJx']"
   ]
  },
  {
   "cell_type": "code",
   "execution_count": 12,
   "id": "1bbfa5f6",
   "metadata": {},
   "outputs": [
    {
     "name": "stdout",
     "output_type": "stream",
     "text": [
      "<class 'pandas.core.frame.DataFrame'>\n",
      "RangeIndex: 1162 entries, 0 to 1161\n",
      "Data columns (total 14 columns):\n",
      " #   Column            Non-Null Count  Dtype  \n",
      "---  ------            --------------  -----  \n",
      " 0   danceability      1162 non-null   float64\n",
      " 1   energy            1162 non-null   float64\n",
      " 2   key               1162 non-null   int64  \n",
      " 3   loudness          1162 non-null   float64\n",
      " 4   mode              1162 non-null   int64  \n",
      " 5   speechiness       1162 non-null   float64\n",
      " 6   acousticness      1162 non-null   float64\n",
      " 7   instrumentalness  1162 non-null   float64\n",
      " 8   liveness          1162 non-null   float64\n",
      " 9   valence           1162 non-null   float64\n",
      " 10  tempo             1162 non-null   float64\n",
      " 11  song_id           1162 non-null   object \n",
      " 12  duration_ms       1162 non-null   int64  \n",
      " 13  time_signature    1162 non-null   int64  \n",
      "dtypes: float64(9), int64(4), object(1)\n",
      "memory usage: 127.2+ KB\n"
     ]
    }
   ],
   "source": [
    "test_tracks = pd.DataFrame.from_dict(features_test,orient='index')\n",
    "test_tracks = test_tracks.reset_index(drop=True).rename(columns={'id' : 'song_id'})\n",
    "\n",
    "test_tracks.drop([\"type\", \"uri\" , \"track_href\" , \"analysis_url\"], axis = 1, inplace = True)\n",
    "test_tracks.info()"
   ]
  },
  {
   "cell_type": "code",
   "execution_count": 14,
   "id": "eca09e02",
   "metadata": {},
   "outputs": [
    {
     "data": {
      "text/html": [
       "<div>\n",
       "<style scoped>\n",
       "    .dataframe tbody tr th:only-of-type {\n",
       "        vertical-align: middle;\n",
       "    }\n",
       "\n",
       "    .dataframe tbody tr th {\n",
       "        vertical-align: top;\n",
       "    }\n",
       "\n",
       "    .dataframe thead th {\n",
       "        text-align: right;\n",
       "    }\n",
       "</style>\n",
       "<table border=\"1\" class=\"dataframe\">\n",
       "  <thead>\n",
       "    <tr style=\"text-align: right;\">\n",
       "      <th></th>\n",
       "      <th>danceability</th>\n",
       "      <th>energy</th>\n",
       "      <th>key</th>\n",
       "      <th>loudness</th>\n",
       "      <th>mode</th>\n",
       "      <th>speechiness</th>\n",
       "      <th>acousticness</th>\n",
       "      <th>instrumentalness</th>\n",
       "      <th>liveness</th>\n",
       "      <th>valence</th>\n",
       "      <th>tempo</th>\n",
       "      <th>song_id</th>\n",
       "      <th>duration_ms</th>\n",
       "      <th>time_signature</th>\n",
       "    </tr>\n",
       "  </thead>\n",
       "  <tbody>\n",
       "    <tr>\n",
       "      <th>0</th>\n",
       "      <td>0.585</td>\n",
       "      <td>0.436</td>\n",
       "      <td>10</td>\n",
       "      <td>-8.761</td>\n",
       "      <td>1</td>\n",
       "      <td>0.0601</td>\n",
       "      <td>0.72100</td>\n",
       "      <td>0.000013</td>\n",
       "      <td>0.1050</td>\n",
       "      <td>0.132</td>\n",
       "      <td>143.874</td>\n",
       "      <td>7lPN2DXiMsVn7XUKtOW1CS</td>\n",
       "      <td>242014</td>\n",
       "      <td>4</td>\n",
       "    </tr>\n",
       "    <tr>\n",
       "      <th>1</th>\n",
       "      <td>0.680</td>\n",
       "      <td>0.826</td>\n",
       "      <td>0</td>\n",
       "      <td>-5.487</td>\n",
       "      <td>1</td>\n",
       "      <td>0.0309</td>\n",
       "      <td>0.02120</td>\n",
       "      <td>0.000012</td>\n",
       "      <td>0.5430</td>\n",
       "      <td>0.644</td>\n",
       "      <td>118.051</td>\n",
       "      <td>5QO79kh1waicV47BqGRL3g</td>\n",
       "      <td>215627</td>\n",
       "      <td>4</td>\n",
       "    </tr>\n",
       "    <tr>\n",
       "      <th>2</th>\n",
       "      <td>0.514</td>\n",
       "      <td>0.730</td>\n",
       "      <td>1</td>\n",
       "      <td>-5.934</td>\n",
       "      <td>1</td>\n",
       "      <td>0.0598</td>\n",
       "      <td>0.00146</td>\n",
       "      <td>0.000095</td>\n",
       "      <td>0.0897</td>\n",
       "      <td>0.334</td>\n",
       "      <td>171.005</td>\n",
       "      <td>0VjIjW4GlUZAMYd2vXMi3b</td>\n",
       "      <td>200040</td>\n",
       "      <td>4</td>\n",
       "    </tr>\n",
       "    <tr>\n",
       "      <th>3</th>\n",
       "      <td>0.731</td>\n",
       "      <td>0.573</td>\n",
       "      <td>4</td>\n",
       "      <td>-10.059</td>\n",
       "      <td>0</td>\n",
       "      <td>0.0544</td>\n",
       "      <td>0.40100</td>\n",
       "      <td>0.000052</td>\n",
       "      <td>0.1130</td>\n",
       "      <td>0.145</td>\n",
       "      <td>109.928</td>\n",
       "      <td>4MzXwWMhyBbmu6hOcLVD49</td>\n",
       "      <td>205090</td>\n",
       "      <td>4</td>\n",
       "    </tr>\n",
       "    <tr>\n",
       "      <th>4</th>\n",
       "      <td>0.907</td>\n",
       "      <td>0.393</td>\n",
       "      <td>4</td>\n",
       "      <td>-7.636</td>\n",
       "      <td>0</td>\n",
       "      <td>0.0539</td>\n",
       "      <td>0.45100</td>\n",
       "      <td>0.000001</td>\n",
       "      <td>0.1350</td>\n",
       "      <td>0.202</td>\n",
       "      <td>104.949</td>\n",
       "      <td>5Kskr9LcNYa0tpt5f0ZEJx</td>\n",
       "      <td>205458</td>\n",
       "      <td>4</td>\n",
       "    </tr>\n",
       "  </tbody>\n",
       "</table>\n",
       "</div>"
      ],
      "text/plain": [
       "   danceability  energy  key  loudness  mode  speechiness  acousticness  \\\n",
       "0         0.585   0.436   10    -8.761     1       0.0601       0.72100   \n",
       "1         0.680   0.826    0    -5.487     1       0.0309       0.02120   \n",
       "2         0.514   0.730    1    -5.934     1       0.0598       0.00146   \n",
       "3         0.731   0.573    4   -10.059     0       0.0544       0.40100   \n",
       "4         0.907   0.393    4    -7.636     0       0.0539       0.45100   \n",
       "\n",
       "   instrumentalness  liveness  valence    tempo                 song_id  \\\n",
       "0          0.000013    0.1050    0.132  143.874  7lPN2DXiMsVn7XUKtOW1CS   \n",
       "1          0.000012    0.5430    0.644  118.051  5QO79kh1waicV47BqGRL3g   \n",
       "2          0.000095    0.0897    0.334  171.005  0VjIjW4GlUZAMYd2vXMi3b   \n",
       "3          0.000052    0.1130    0.145  109.928  4MzXwWMhyBbmu6hOcLVD49   \n",
       "4          0.000001    0.1350    0.202  104.949  5Kskr9LcNYa0tpt5f0ZEJx   \n",
       "\n",
       "   duration_ms  time_signature  \n",
       "0       242014               4  \n",
       "1       215627               4  \n",
       "2       200040               4  \n",
       "3       205090               4  \n",
       "4       205458               4  "
      ]
     },
     "execution_count": 14,
     "metadata": {},
     "output_type": "execute_result"
    }
   ],
   "source": [
    "test_tracks.head()"
   ]
  },
  {
   "cell_type": "markdown",
   "id": "00a1705a",
   "metadata": {},
   "source": [
    "## Valence prediction without the use of Neural Networks"
   ]
  },
  {
   "cell_type": "code",
   "execution_count": 13,
   "id": "efb5bc6e",
   "metadata": {},
   "outputs": [],
   "source": [
    "from sklearn.metrics import mean_absolute_error\n",
    "from sklearn.tree import DecisionTreeRegressor\n",
    "from sklearn.ensemble import RandomForestRegressor\n",
    "from sklearn.ensemble import AdaBoostRegressor\n",
    "from sklearn.neighbors import KNeighborsRegressor\n",
    "from sklearn.svm import SVR\n",
    "from sklearn.model_selection import GridSearchCV, RandomizedSearchCV, KFold\n",
    "from sklearn.preprocessing import StandardScaler\n",
    "from sklearn.preprocessing import MinMaxScaler\n",
    "from sklearn.linear_model import LinearRegression"
   ]
  },
  {
   "cell_type": "markdown",
   "id": "5675924d",
   "metadata": {},
   "source": [
    "- create the test and training sets from the above df's"
   ]
  },
  {
   "cell_type": "code",
   "execution_count": 14,
   "id": "cbe3fc89",
   "metadata": {},
   "outputs": [],
   "source": [
    "X_train = tracks.drop(['song_id', 'valence'], axis=1).values\n",
    "y_train = tracks['valence'].values\n",
    "\n",
    "X_test = test_tracks.drop(['song_id', 'valence'], axis=1).values\n",
    "y_test = test_tracks['valence'].values\n",
    "\n",
    "sscaler= StandardScaler()\n",
    "mscaler=MinMaxScaler()\n",
    "X_train_sscaled = sscaler.fit_transform(X_train)\n",
    "X_test_sscaled = sscaler.transform(X_test)\n",
    "X_train_mscaled = mscaler.fit_transform(X_train)\n",
    "X_test_mscaled = mscaler.transform(X_test)"
   ]
  },
  {
   "cell_type": "markdown",
   "id": "0aa63602",
   "metadata": {},
   "source": [
    "- Recall we don't want data leakge from the test set so we only fit on the X_train data."
   ]
  },
  {
   "cell_type": "markdown",
   "id": "8f666675",
   "metadata": {},
   "source": [
    "### Method 1: Desicion Trees"
   ]
  },
  {
   "cell_type": "markdown",
   "id": "7e9069ab",
   "metadata": {},
   "source": [
    "- Desicion trees does not need to be scaled hence we import the raw data"
   ]
  },
  {
   "cell_type": "code",
   "execution_count": 22,
   "id": "24f65071",
   "metadata": {},
   "outputs": [
    {
     "data": {
      "text/plain": [
       "0.189937091222031"
      ]
     },
     "execution_count": 22,
     "metadata": {},
     "output_type": "execute_result"
    }
   ],
   "source": [
    "clf = DecisionTreeRegressor()\n",
    "tracks_tree = clf.fit(X_train, y_train)\n",
    "\n",
    "predictions = tracks_tree.predict(X_test)\n",
    "mean_absolute_error(y_test,predictions)"
   ]
  },
  {
   "cell_type": "markdown",
   "id": "3f708d53",
   "metadata": {},
   "source": [
    "- We found the mean absolute error to be `mae = 0,187`, which is a fair result for a 1st try\n",
    "- We can try adding an optimizer to the model"
   ]
  },
  {
   "cell_type": "code",
   "execution_count": 22,
   "id": "155633f0",
   "metadata": {},
   "outputs": [
    {
     "name": "stdout",
     "output_type": "stream",
     "text": [
      "DecisionTreeRegressor(criterion='absolute_error', max_depth=6)\n",
      "{'criterion': 'absolute_error', 'max_depth': 6}\n"
     ]
    }
   ],
   "source": [
    "parameters = {\n",
    "    'criterion': ['absolute_error'],\n",
    "    'max_depth': list(range(2, 7)),\n",
    "}\n",
    "\n",
    "cv=KFold(n_splits=5, shuffle=True)\n",
    "grid_searc = GridSearchCV(DecisionTreeRegressor(), param_grid=parameters, cv=cv,n_jobs=-1)\n",
    "\n",
    "tracks_tree = grid_searc.fit(X_train, y_train)\n",
    "print(tracks_tree.best_estimator_)\n",
    "print(tracks_tree.best_params_)"
   ]
  },
  {
   "cell_type": "code",
   "execution_count": 23,
   "id": "7418c994",
   "metadata": {},
   "outputs": [
    {
     "data": {
      "text/plain": [
       "0.16181790017211703"
      ]
     },
     "execution_count": 23,
     "metadata": {},
     "output_type": "execute_result"
    }
   ],
   "source": [
    "predictions = tracks_tree.predict(X_test)\n",
    "mean_absolute_error(y_test,predictions)"
   ]
  },
  {
   "cell_type": "markdown",
   "id": "35e3dd4f",
   "metadata": {},
   "source": [
    "- hence the mean absolute value is dropped to `mae = 0.1618`"
   ]
  },
  {
   "cell_type": "markdown",
   "id": "916e278b",
   "metadata": {},
   "source": [
    "### Method 2: KNN"
   ]
  },
  {
   "cell_type": "code",
   "execution_count": 24,
   "id": "bcbb6134",
   "metadata": {},
   "outputs": [
    {
     "data": {
      "text/plain": [
       "0.1948577452667814"
      ]
     },
     "execution_count": 24,
     "metadata": {},
     "output_type": "execute_result"
    }
   ],
   "source": [
    "knr = KNeighborsRegressor(n_jobs=-1)\n",
    "knr.fit(X_train,y_train)\n",
    "\n",
    "predictions = knr.predict(X_test)\n",
    "mean_absolute_error(y_test,predictions)"
   ]
  },
  {
   "cell_type": "markdown",
   "id": "f9199592",
   "metadata": {},
   "source": [
    "- vs the model with the normalised data"
   ]
  },
  {
   "cell_type": "code",
   "execution_count": 25,
   "id": "ee50c9a6",
   "metadata": {},
   "outputs": [
    {
     "data": {
      "text/plain": [
       "0.16640476764199658"
      ]
     },
     "execution_count": 25,
     "metadata": {},
     "output_type": "execute_result"
    }
   ],
   "source": [
    "knr = KNeighborsRegressor(n_jobs=-1)\n",
    "knr.fit(X_train_sscaled,y_train)\n",
    "\n",
    "predictions = knr.predict(X_test_sscaled)\n",
    "mean_absolute_error(y_test,predictions)"
   ]
  },
  {
   "cell_type": "markdown",
   "id": "83326ff5",
   "metadata": {},
   "source": [
    "- Now let's try and improve on the model with the normalised data"
   ]
  },
  {
   "cell_type": "code",
   "execution_count": 120,
   "id": "a85af52e",
   "metadata": {},
   "outputs": [
    {
     "name": "stdout",
     "output_type": "stream",
     "text": [
      "KNeighborsRegressor(n_jobs=-1, n_neighbors=54, p=1, weights='distance')\n",
      "{'n_neighbors': 54, 'p': 1, 'weights': 'distance'}\n"
     ]
    }
   ],
   "source": [
    "parameters = {\n",
    "    'n_neighbors': np.arange(1,60),\n",
    "    'weights': ['distance','uniform'],\n",
    "    'p' : [1,2],\n",
    "}\n",
    "\n",
    "knr_tuned = GridSearchCV(knr, param_grid=parameters, n_jobs=-1)\n",
    "\n",
    "knr_tuned = knr_tuned.fit(X_train_sscaled, y_train)\n",
    "print(knr_tuned.best_estimator_)\n",
    "print(knr_tuned.best_params_)"
   ]
  },
  {
   "cell_type": "code",
   "execution_count": 121,
   "id": "42e4939f",
   "metadata": {},
   "outputs": [
    {
     "data": {
      "text/plain": [
       "0.14149026343470386"
      ]
     },
     "execution_count": 121,
     "metadata": {},
     "output_type": "execute_result"
    }
   ],
   "source": [
    "knr_tuned_pred = knr_tuned.predict(X_test_sscaled)\n",
    "mean_absolute_error(y_test,knr_tuned_pred)"
   ]
  },
  {
   "cell_type": "markdown",
   "id": "dd6b49f8",
   "metadata": {},
   "source": [
    "- This took an awful lot of time but it is the best model thus far with `mae = 0.14149`"
   ]
  },
  {
   "cell_type": "markdown",
   "id": "21a1e4ce",
   "metadata": {},
   "source": [
    "### Method 3: Random Forests"
   ]
  },
  {
   "cell_type": "code",
   "execution_count": 28,
   "id": "16ada963",
   "metadata": {},
   "outputs": [
    {
     "data": {
      "text/plain": [
       "0.13830205048766495"
      ]
     },
     "execution_count": 28,
     "metadata": {},
     "output_type": "execute_result"
    }
   ],
   "source": [
    "rforest = RandomForestRegressor()\n",
    "rforest.fit(X_train, y_train)\n",
    "\n",
    "rforest_pred = rforest.predict(X_test)\n",
    "mean_absolute_error(y_test,rforest_pred)"
   ]
  },
  {
   "cell_type": "markdown",
   "id": "605894f0",
   "metadata": {},
   "source": [
    "- Trying to use GridSearchCV or RandomizedSearchCV takes an absurd amount of time for SVM and RF hence we will\n",
    "    avoid doing that"
   ]
  },
  {
   "cell_type": "markdown",
   "id": "c3ad0112",
   "metadata": {},
   "source": [
    "### Method 4: Support Vector Machines"
   ]
  },
  {
   "cell_type": "code",
   "execution_count": 127,
   "id": "e29b29be",
   "metadata": {},
   "outputs": [
    {
     "data": {
      "text/plain": [
       "0.19242068037091975"
      ]
     },
     "execution_count": 127,
     "metadata": {},
     "output_type": "execute_result"
    }
   ],
   "source": [
    "svr = SVR()\n",
    "svr.fit(X_train, y_train)\n",
    "\n",
    "svr_pred = svr.predict(X_test)\n",
    "mean_absolute_error(y_test,svr_pred)"
   ]
  },
  {
   "cell_type": "markdown",
   "id": "ddd7976c",
   "metadata": {},
   "source": [
    "- vs normalized data"
   ]
  },
  {
   "cell_type": "code",
   "execution_count": 128,
   "id": "75c55ccd",
   "metadata": {},
   "outputs": [
    {
     "data": {
      "text/plain": [
       "0.14901188766447593"
      ]
     },
     "execution_count": 128,
     "metadata": {},
     "output_type": "execute_result"
    }
   ],
   "source": [
    "svr = SVR()\n",
    "svr.fit(X_train_sscaled, y_train)\n",
    "\n",
    "svr_pred = svr.predict(X_test_sscaled)\n",
    "mean_absolute_error(y_test,svr_pred)"
   ]
  },
  {
   "cell_type": "markdown",
   "id": "3936f985",
   "metadata": {},
   "source": [
    "### Method 5: Linear Regression"
   ]
  },
  {
   "cell_type": "code",
   "execution_count": 26,
   "id": "9e1e8317",
   "metadata": {},
   "outputs": [
    {
     "data": {
      "text/plain": [
       "0.16040561496315273"
      ]
     },
     "execution_count": 26,
     "metadata": {},
     "output_type": "execute_result"
    }
   ],
   "source": [
    "lm = LinearRegression()\n",
    "lm.fit(X_train,y_train)\n",
    "\n",
    "predictions = lm.predict(X_test)\n",
    "mean_absolute_error(y_test,predictions)"
   ]
  },
  {
   "cell_type": "markdown",
   "id": "8d380d64",
   "metadata": {},
   "source": [
    "## Valence prediction using Neural Networks"
   ]
  },
  {
   "cell_type": "code",
   "execution_count": 15,
   "id": "9e52e6b6",
   "metadata": {},
   "outputs": [],
   "source": [
    "import tensorflow as tf\n",
    "from tensorflow.keras.models import Sequential\n",
    "from tensorflow.keras.layers import Dense, Activation,Dropout\n",
    "from tensorflow.keras.constraints import max_norm\n",
    "from tensorflow.keras.callbacks import EarlyStopping"
   ]
  },
  {
   "cell_type": "code",
   "execution_count": 68,
   "id": "0d89dcab",
   "metadata": {},
   "outputs": [],
   "source": [
    "model = Sequential()\n",
    "\n",
    "# input layer\n",
    "model.add(Dense(12,  activation='relu',input_shape=(X_train_mscaled.shape[1],)))\n",
    "model.add(Dropout(0.2))\n",
    "\n",
    "# hidden layer\n",
    "model.add(Dense(6, activation='relu'))\n",
    "model.add(Dropout(0.2))\n",
    "\n",
    "# output layer\n",
    "model.add(Dense(units=1))\n",
    "\n",
    "# Compile model\n",
    "model.compile(loss='mae', optimizer='adam',metrics = 'mean_absolute_error')"
   ]
  },
  {
   "cell_type": "code",
   "execution_count": 63,
   "id": "3b1f970c",
   "metadata": {},
   "outputs": [
    {
     "name": "stdout",
     "output_type": "stream",
     "text": [
      "Model: \"sequential_11\"\n",
      "_________________________________________________________________\n",
      " Layer (type)                Output Shape              Param #   \n",
      "=================================================================\n",
      " dense_34 (Dense)            (None, 12)                156       \n",
      "                                                                 \n",
      " dropout_18 (Dropout)        (None, 12)                0         \n",
      "                                                                 \n",
      " dense_35 (Dense)            (None, 6)                 78        \n",
      "                                                                 \n",
      " dropout_19 (Dropout)        (None, 6)                 0         \n",
      "                                                                 \n",
      " dense_36 (Dense)            (None, 1)                 7         \n",
      "                                                                 \n",
      "=================================================================\n",
      "Total params: 241\n",
      "Trainable params: 241\n",
      "Non-trainable params: 0\n",
      "_________________________________________________________________\n"
     ]
    }
   ],
   "source": [
    "model.summary()"
   ]
  },
  {
   "cell_type": "code",
   "execution_count": 69,
   "id": "82c44948",
   "metadata": {},
   "outputs": [
    {
     "name": "stdout",
     "output_type": "stream",
     "text": [
      "Epoch 1/100\n",
      "434/434 [==============================] - 2s 2ms/step - loss: 0.3051 - mean_absolute_error: 0.3051 - val_loss: 0.1971 - val_mean_absolute_error: 0.1971\n",
      "Epoch 2/100\n",
      "434/434 [==============================] - 1s 2ms/step - loss: 0.1939 - mean_absolute_error: 0.1939 - val_loss: 0.1900 - val_mean_absolute_error: 0.1900\n",
      "Epoch 3/100\n",
      "434/434 [==============================] - 1s 2ms/step - loss: 0.1820 - mean_absolute_error: 0.1820 - val_loss: 0.1874 - val_mean_absolute_error: 0.1874\n",
      "Epoch 4/100\n",
      "434/434 [==============================] - 1s 2ms/step - loss: 0.1767 - mean_absolute_error: 0.1767 - val_loss: 0.1870 - val_mean_absolute_error: 0.1870\n",
      "Epoch 5/100\n",
      "434/434 [==============================] - 1s 2ms/step - loss: 0.1727 - mean_absolute_error: 0.1727 - val_loss: 0.1795 - val_mean_absolute_error: 0.1795\n",
      "Epoch 6/100\n",
      "434/434 [==============================] - 1s 2ms/step - loss: 0.1694 - mean_absolute_error: 0.1694 - val_loss: 0.1799 - val_mean_absolute_error: 0.1799\n",
      "Epoch 7/100\n",
      "434/434 [==============================] - 1s 2ms/step - loss: 0.1685 - mean_absolute_error: 0.1685 - val_loss: 0.1742 - val_mean_absolute_error: 0.1742\n",
      "Epoch 8/100\n",
      "434/434 [==============================] - 1s 2ms/step - loss: 0.1652 - mean_absolute_error: 0.1652 - val_loss: 0.1733 - val_mean_absolute_error: 0.1733\n",
      "Epoch 9/100\n",
      "434/434 [==============================] - 1s 2ms/step - loss: 0.1644 - mean_absolute_error: 0.1644 - val_loss: 0.1711 - val_mean_absolute_error: 0.1711\n",
      "Epoch 10/100\n",
      "434/434 [==============================] - 1s 2ms/step - loss: 0.1635 - mean_absolute_error: 0.1635 - val_loss: 0.1652 - val_mean_absolute_error: 0.1652\n",
      "Epoch 11/100\n",
      "434/434 [==============================] - 1s 2ms/step - loss: 0.1618 - mean_absolute_error: 0.1618 - val_loss: 0.1671 - val_mean_absolute_error: 0.1671\n",
      "Epoch 12/100\n",
      "434/434 [==============================] - 1s 2ms/step - loss: 0.1614 - mean_absolute_error: 0.1614 - val_loss: 0.1646 - val_mean_absolute_error: 0.1646\n",
      "Epoch 13/100\n",
      "434/434 [==============================] - 1s 2ms/step - loss: 0.1612 - mean_absolute_error: 0.1612 - val_loss: 0.1648 - val_mean_absolute_error: 0.1648\n",
      "Epoch 14/100\n",
      "434/434 [==============================] - 1s 2ms/step - loss: 0.1606 - mean_absolute_error: 0.1606 - val_loss: 0.1639 - val_mean_absolute_error: 0.1639\n",
      "Epoch 15/100\n",
      "434/434 [==============================] - 1s 2ms/step - loss: 0.1610 - mean_absolute_error: 0.1610 - val_loss: 0.1632 - val_mean_absolute_error: 0.1632\n",
      "Epoch 16/100\n",
      "434/434 [==============================] - 1s 2ms/step - loss: 0.1603 - mean_absolute_error: 0.1603 - val_loss: 0.1658 - val_mean_absolute_error: 0.1658\n",
      "Epoch 17/100\n",
      "434/434 [==============================] - 1s 2ms/step - loss: 0.1596 - mean_absolute_error: 0.1596 - val_loss: 0.1644 - val_mean_absolute_error: 0.1644\n",
      "Epoch 18/100\n",
      "434/434 [==============================] - 1s 2ms/step - loss: 0.1592 - mean_absolute_error: 0.1592 - val_loss: 0.1602 - val_mean_absolute_error: 0.1602\n",
      "Epoch 19/100\n",
      "434/434 [==============================] - 1s 2ms/step - loss: 0.1585 - mean_absolute_error: 0.1585 - val_loss: 0.1633 - val_mean_absolute_error: 0.1633\n",
      "Epoch 20/100\n",
      "434/434 [==============================] - 1s 2ms/step - loss: 0.1587 - mean_absolute_error: 0.1587 - val_loss: 0.1618 - val_mean_absolute_error: 0.1618\n",
      "Epoch 21/100\n",
      "434/434 [==============================] - 1s 2ms/step - loss: 0.1584 - mean_absolute_error: 0.1584 - val_loss: 0.1610 - val_mean_absolute_error: 0.1610\n",
      "Epoch 22/100\n",
      "434/434 [==============================] - 1s 2ms/step - loss: 0.1582 - mean_absolute_error: 0.1582 - val_loss: 0.1616 - val_mean_absolute_error: 0.1616\n",
      "Epoch 23/100\n",
      "434/434 [==============================] - 1s 2ms/step - loss: 0.1571 - mean_absolute_error: 0.1571 - val_loss: 0.1626 - val_mean_absolute_error: 0.1626\n",
      "Epoch 24/100\n",
      "434/434 [==============================] - 1s 2ms/step - loss: 0.1570 - mean_absolute_error: 0.1570 - val_loss: 0.1649 - val_mean_absolute_error: 0.1649\n",
      "Epoch 25/100\n",
      "434/434 [==============================] - 1s 2ms/step - loss: 0.1569 - mean_absolute_error: 0.1569 - val_loss: 0.1589 - val_mean_absolute_error: 0.1589\n",
      "Epoch 26/100\n",
      "434/434 [==============================] - 1s 2ms/step - loss: 0.1577 - mean_absolute_error: 0.1577 - val_loss: 0.1600 - val_mean_absolute_error: 0.1600\n",
      "Epoch 27/100\n",
      "434/434 [==============================] - 1s 2ms/step - loss: 0.1557 - mean_absolute_error: 0.1557 - val_loss: 0.1567 - val_mean_absolute_error: 0.1567\n",
      "Epoch 28/100\n",
      "434/434 [==============================] - 1s 2ms/step - loss: 0.1568 - mean_absolute_error: 0.1568 - val_loss: 0.1586 - val_mean_absolute_error: 0.1586\n",
      "Epoch 29/100\n",
      "434/434 [==============================] - 1s 2ms/step - loss: 0.1569 - mean_absolute_error: 0.1569 - val_loss: 0.1611 - val_mean_absolute_error: 0.1611\n",
      "Epoch 30/100\n",
      "434/434 [==============================] - 1s 3ms/step - loss: 0.1568 - mean_absolute_error: 0.1568 - val_loss: 0.1606 - val_mean_absolute_error: 0.1606\n",
      "Epoch 31/100\n",
      "434/434 [==============================] - 2s 4ms/step - loss: 0.1573 - mean_absolute_error: 0.1573 - val_loss: 0.1594 - val_mean_absolute_error: 0.1594\n",
      "Epoch 32/100\n",
      "434/434 [==============================] - 1s 2ms/step - loss: 0.1567 - mean_absolute_error: 0.1567 - val_loss: 0.1608 - val_mean_absolute_error: 0.1608\n",
      "Epoch 33/100\n",
      "434/434 [==============================] - 1s 2ms/step - loss: 0.1563 - mean_absolute_error: 0.1563 - val_loss: 0.1556 - val_mean_absolute_error: 0.1556\n",
      "Epoch 34/100\n",
      "434/434 [==============================] - 1s 3ms/step - loss: 0.1573 - mean_absolute_error: 0.1573 - val_loss: 0.1571 - val_mean_absolute_error: 0.1571\n",
      "Epoch 35/100\n",
      "434/434 [==============================] - 1s 3ms/step - loss: 0.1566 - mean_absolute_error: 0.1566 - val_loss: 0.1598 - val_mean_absolute_error: 0.1598\n",
      "Epoch 36/100\n",
      "434/434 [==============================] - 1s 3ms/step - loss: 0.1565 - mean_absolute_error: 0.1565 - val_loss: 0.1578 - val_mean_absolute_error: 0.1578\n",
      "Epoch 37/100\n",
      "434/434 [==============================] - 1s 2ms/step - loss: 0.1568 - mean_absolute_error: 0.1568 - val_loss: 0.1636 - val_mean_absolute_error: 0.1636\n",
      "Epoch 38/100\n",
      "434/434 [==============================] - 1s 2ms/step - loss: 0.1562 - mean_absolute_error: 0.1562 - val_loss: 0.1605 - val_mean_absolute_error: 0.1605\n",
      "Epoch 39/100\n",
      "434/434 [==============================] - 1s 2ms/step - loss: 0.1566 - mean_absolute_error: 0.1566 - val_loss: 0.1602 - val_mean_absolute_error: 0.1602\n",
      "Epoch 40/100\n",
      "434/434 [==============================] - 1s 3ms/step - loss: 0.1558 - mean_absolute_error: 0.1558 - val_loss: 0.1559 - val_mean_absolute_error: 0.1559\n",
      "Epoch 41/100\n",
      "434/434 [==============================] - 1s 3ms/step - loss: 0.1555 - mean_absolute_error: 0.1555 - val_loss: 0.1604 - val_mean_absolute_error: 0.1604\n",
      "Epoch 42/100\n",
      "434/434 [==============================] - 1s 2ms/step - loss: 0.1565 - mean_absolute_error: 0.1565 - val_loss: 0.1603 - val_mean_absolute_error: 0.1603\n",
      "Epoch 43/100\n",
      "434/434 [==============================] - 1s 2ms/step - loss: 0.1559 - mean_absolute_error: 0.1559 - val_loss: 0.1587 - val_mean_absolute_error: 0.1587\n",
      "Epoch 44/100\n",
      "434/434 [==============================] - 1s 2ms/step - loss: 0.1568 - mean_absolute_error: 0.1568 - val_loss: 0.1610 - val_mean_absolute_error: 0.1610\n",
      "Epoch 45/100\n",
      "434/434 [==============================] - 1s 2ms/step - loss: 0.1566 - mean_absolute_error: 0.1566 - val_loss: 0.1594 - val_mean_absolute_error: 0.1594\n",
      "Epoch 46/100\n",
      "434/434 [==============================] - 1s 2ms/step - loss: 0.1560 - mean_absolute_error: 0.1560 - val_loss: 0.1593 - val_mean_absolute_error: 0.1593\n",
      "Epoch 47/100\n",
      "434/434 [==============================] - 1s 2ms/step - loss: 0.1562 - mean_absolute_error: 0.1562 - val_loss: 0.1607 - val_mean_absolute_error: 0.1607\n",
      "Epoch 48/100\n",
      "434/434 [==============================] - 1s 2ms/step - loss: 0.1556 - mean_absolute_error: 0.1556 - val_loss: 0.1588 - val_mean_absolute_error: 0.1588\n",
      "Epoch 49/100\n",
      "434/434 [==============================] - 1s 2ms/step - loss: 0.1558 - mean_absolute_error: 0.1558 - val_loss: 0.1601 - val_mean_absolute_error: 0.1601\n",
      "Epoch 50/100\n",
      "434/434 [==============================] - 1s 2ms/step - loss: 0.1557 - mean_absolute_error: 0.1557 - val_loss: 0.1630 - val_mean_absolute_error: 0.1630\n",
      "Epoch 51/100\n",
      "434/434 [==============================] - 1s 2ms/step - loss: 0.1557 - mean_absolute_error: 0.1557 - val_loss: 0.1583 - val_mean_absolute_error: 0.1583\n",
      "Epoch 52/100\n",
      "434/434 [==============================] - 1s 2ms/step - loss: 0.1558 - mean_absolute_error: 0.1558 - val_loss: 0.1626 - val_mean_absolute_error: 0.1626\n",
      "Epoch 53/100\n",
      "434/434 [==============================] - 1s 2ms/step - loss: 0.1560 - mean_absolute_error: 0.1560 - val_loss: 0.1589 - val_mean_absolute_error: 0.1589\n",
      "Epoch 54/100\n",
      "434/434 [==============================] - 1s 2ms/step - loss: 0.1559 - mean_absolute_error: 0.1559 - val_loss: 0.1570 - val_mean_absolute_error: 0.1570\n",
      "Epoch 55/100\n",
      "434/434 [==============================] - 1s 2ms/step - loss: 0.1559 - mean_absolute_error: 0.1559 - val_loss: 0.1613 - val_mean_absolute_error: 0.1613\n",
      "Epoch 56/100\n",
      "434/434 [==============================] - 1s 2ms/step - loss: 0.1561 - mean_absolute_error: 0.1561 - val_loss: 0.1608 - val_mean_absolute_error: 0.1608\n",
      "Epoch 57/100\n",
      "434/434 [==============================] - 1s 2ms/step - loss: 0.1560 - mean_absolute_error: 0.1560 - val_loss: 0.1572 - val_mean_absolute_error: 0.1572\n",
      "Epoch 58/100\n",
      "434/434 [==============================] - 1s 2ms/step - loss: 0.1556 - mean_absolute_error: 0.1556 - val_loss: 0.1602 - val_mean_absolute_error: 0.1602\n",
      "Epoch 59/100\n",
      "434/434 [==============================] - 1s 2ms/step - loss: 0.1550 - mean_absolute_error: 0.1550 - val_loss: 0.1675 - val_mean_absolute_error: 0.1675\n",
      "Epoch 60/100\n",
      "434/434 [==============================] - 1s 2ms/step - loss: 0.1562 - mean_absolute_error: 0.1562 - val_loss: 0.1589 - val_mean_absolute_error: 0.1589\n",
      "Epoch 61/100\n",
      "434/434 [==============================] - 1s 2ms/step - loss: 0.1566 - mean_absolute_error: 0.1566 - val_loss: 0.1601 - val_mean_absolute_error: 0.1601\n",
      "Epoch 62/100\n",
      "434/434 [==============================] - 1s 2ms/step - loss: 0.1552 - mean_absolute_error: 0.1552 - val_loss: 0.1587 - val_mean_absolute_error: 0.1587\n",
      "Epoch 63/100\n",
      "434/434 [==============================] - 1s 2ms/step - loss: 0.1549 - mean_absolute_error: 0.1549 - val_loss: 0.1574 - val_mean_absolute_error: 0.1574\n",
      "Epoch 64/100\n",
      "434/434 [==============================] - 1s 2ms/step - loss: 0.1557 - mean_absolute_error: 0.1557 - val_loss: 0.1562 - val_mean_absolute_error: 0.1562\n",
      "Epoch 65/100\n",
      "434/434 [==============================] - 1s 2ms/step - loss: 0.1556 - mean_absolute_error: 0.1556 - val_loss: 0.1603 - val_mean_absolute_error: 0.1603\n",
      "Epoch 66/100\n",
      "434/434 [==============================] - 1s 2ms/step - loss: 0.1557 - mean_absolute_error: 0.1557 - val_loss: 0.1609 - val_mean_absolute_error: 0.1609\n",
      "Epoch 67/100\n",
      "434/434 [==============================] - 1s 2ms/step - loss: 0.1559 - mean_absolute_error: 0.1559 - val_loss: 0.1560 - val_mean_absolute_error: 0.1560\n",
      "Epoch 68/100\n",
      "434/434 [==============================] - 1s 2ms/step - loss: 0.1550 - mean_absolute_error: 0.1550 - val_loss: 0.1611 - val_mean_absolute_error: 0.1611\n",
      "Epoch 69/100\n",
      "434/434 [==============================] - 1s 2ms/step - loss: 0.1557 - mean_absolute_error: 0.1557 - val_loss: 0.1616 - val_mean_absolute_error: 0.1616\n",
      "Epoch 70/100\n",
      "434/434 [==============================] - 1s 2ms/step - loss: 0.1553 - mean_absolute_error: 0.1553 - val_loss: 0.1587 - val_mean_absolute_error: 0.1587\n",
      "Epoch 71/100\n",
      "434/434 [==============================] - 1s 2ms/step - loss: 0.1551 - mean_absolute_error: 0.1551 - val_loss: 0.1595 - val_mean_absolute_error: 0.1595\n",
      "Epoch 72/100\n",
      "434/434 [==============================] - 1s 2ms/step - loss: 0.1550 - mean_absolute_error: 0.1550 - val_loss: 0.1615 - val_mean_absolute_error: 0.1615\n",
      "Epoch 73/100\n",
      "434/434 [==============================] - 1s 2ms/step - loss: 0.1552 - mean_absolute_error: 0.1552 - val_loss: 0.1588 - val_mean_absolute_error: 0.1588\n",
      "Epoch 74/100\n",
      "434/434 [==============================] - 1s 2ms/step - loss: 0.1555 - mean_absolute_error: 0.1555 - val_loss: 0.1590 - val_mean_absolute_error: 0.1590\n",
      "Epoch 75/100\n",
      "434/434 [==============================] - 1s 2ms/step - loss: 0.1559 - mean_absolute_error: 0.1559 - val_loss: 0.1574 - val_mean_absolute_error: 0.1574\n",
      "Epoch 76/100\n",
      "434/434 [==============================] - 1s 2ms/step - loss: 0.1553 - mean_absolute_error: 0.1553 - val_loss: 0.1600 - val_mean_absolute_error: 0.1600\n",
      "Epoch 77/100\n",
      "434/434 [==============================] - 1s 2ms/step - loss: 0.1557 - mean_absolute_error: 0.1557 - val_loss: 0.1586 - val_mean_absolute_error: 0.1586\n",
      "Epoch 78/100\n",
      "434/434 [==============================] - 1s 2ms/step - loss: 0.1555 - mean_absolute_error: 0.1555 - val_loss: 0.1613 - val_mean_absolute_error: 0.1613\n",
      "Epoch 79/100\n",
      "434/434 [==============================] - 1s 2ms/step - loss: 0.1550 - mean_absolute_error: 0.1550 - val_loss: 0.1596 - val_mean_absolute_error: 0.1596\n",
      "Epoch 80/100\n",
      "434/434 [==============================] - 1s 2ms/step - loss: 0.1550 - mean_absolute_error: 0.1550 - val_loss: 0.1628 - val_mean_absolute_error: 0.1628\n",
      "Epoch 81/100\n",
      "434/434 [==============================] - 1s 2ms/step - loss: 0.1554 - mean_absolute_error: 0.1554 - val_loss: 0.1588 - val_mean_absolute_error: 0.1588\n",
      "Epoch 82/100\n",
      "434/434 [==============================] - 1s 2ms/step - loss: 0.1552 - mean_absolute_error: 0.1552 - val_loss: 0.1596 - val_mean_absolute_error: 0.1596\n",
      "Epoch 83/100\n",
      "434/434 [==============================] - 1s 2ms/step - loss: 0.1555 - mean_absolute_error: 0.1555 - val_loss: 0.1588 - val_mean_absolute_error: 0.1588\n",
      "Epoch 84/100\n",
      "434/434 [==============================] - 1s 2ms/step - loss: 0.1553 - mean_absolute_error: 0.1553 - val_loss: 0.1586 - val_mean_absolute_error: 0.1586\n",
      "Epoch 85/100\n",
      "434/434 [==============================] - 1s 2ms/step - loss: 0.1551 - mean_absolute_error: 0.1551 - val_loss: 0.1566 - val_mean_absolute_error: 0.1566\n",
      "Epoch 86/100\n",
      "434/434 [==============================] - 1s 2ms/step - loss: 0.1548 - mean_absolute_error: 0.1548 - val_loss: 0.1573 - val_mean_absolute_error: 0.1573\n",
      "Epoch 87/100\n",
      "434/434 [==============================] - 1s 2ms/step - loss: 0.1547 - mean_absolute_error: 0.1547 - val_loss: 0.1572 - val_mean_absolute_error: 0.1572\n",
      "Epoch 88/100\n",
      "434/434 [==============================] - 1s 2ms/step - loss: 0.1552 - mean_absolute_error: 0.1552 - val_loss: 0.1576 - val_mean_absolute_error: 0.1576\n",
      "Epoch 89/100\n",
      "434/434 [==============================] - 1s 2ms/step - loss: 0.1548 - mean_absolute_error: 0.1548 - val_loss: 0.1562 - val_mean_absolute_error: 0.1562\n",
      "Epoch 90/100\n",
      "434/434 [==============================] - 1s 2ms/step - loss: 0.1554 - mean_absolute_error: 0.1554 - val_loss: 0.1603 - val_mean_absolute_error: 0.1603\n",
      "Epoch 91/100\n",
      "434/434 [==============================] - 1s 2ms/step - loss: 0.1552 - mean_absolute_error: 0.1552 - val_loss: 0.1583 - val_mean_absolute_error: 0.1583\n",
      "Epoch 92/100\n",
      "434/434 [==============================] - 1s 2ms/step - loss: 0.1555 - mean_absolute_error: 0.1555 - val_loss: 0.1576 - val_mean_absolute_error: 0.1576\n",
      "Epoch 93/100\n",
      "434/434 [==============================] - 1s 2ms/step - loss: 0.1553 - mean_absolute_error: 0.1553 - val_loss: 0.1574 - val_mean_absolute_error: 0.1574\n",
      "Epoch 94/100\n",
      "434/434 [==============================] - 1s 2ms/step - loss: 0.1551 - mean_absolute_error: 0.1551 - val_loss: 0.1576 - val_mean_absolute_error: 0.1576\n",
      "Epoch 95/100\n",
      "434/434 [==============================] - 1s 2ms/step - loss: 0.1554 - mean_absolute_error: 0.1554 - val_loss: 0.1561 - val_mean_absolute_error: 0.1561\n",
      "Epoch 96/100\n",
      "434/434 [==============================] - 1s 2ms/step - loss: 0.1551 - mean_absolute_error: 0.1551 - val_loss: 0.1588 - val_mean_absolute_error: 0.1588\n",
      "Epoch 97/100\n",
      "434/434 [==============================] - 1s 2ms/step - loss: 0.1550 - mean_absolute_error: 0.1550 - val_loss: 0.1565 - val_mean_absolute_error: 0.1565\n",
      "Epoch 98/100\n",
      "434/434 [==============================] - 1s 2ms/step - loss: 0.1555 - mean_absolute_error: 0.1555 - val_loss: 0.1560 - val_mean_absolute_error: 0.1560\n",
      "Epoch 99/100\n",
      "434/434 [==============================] - 1s 2ms/step - loss: 0.1548 - mean_absolute_error: 0.1548 - val_loss: 0.1604 - val_mean_absolute_error: 0.1604\n",
      "Epoch 100/100\n",
      "434/434 [==============================] - 1s 2ms/step - loss: 0.1553 - mean_absolute_error: 0.1553 - val_loss: 0.1603 - val_mean_absolute_error: 0.1603\n"
     ]
    },
    {
     "data": {
      "text/plain": [
       "<keras.callbacks.History at 0x15dc6b83ca0>"
      ]
     },
     "execution_count": 69,
     "metadata": {},
     "output_type": "execute_result"
    }
   ],
   "source": [
    "model.fit(\n",
    "    x=X_train_mscaled, \n",
    "    y=y_train,\n",
    "    epochs=100, \n",
    "    validation_data=(X_test_mscaled, y_test))"
   ]
  },
  {
   "cell_type": "code",
   "execution_count": 70,
   "id": "60822b2c",
   "metadata": {},
   "outputs": [],
   "source": [
    "losses = pd.DataFrame(model.history.history)"
   ]
  },
  {
   "cell_type": "code",
   "execution_count": 71,
   "id": "4a885391",
   "metadata": {},
   "outputs": [
    {
     "data": {
      "text/plain": [
       "<Axes: >"
      ]
     },
     "execution_count": 71,
     "metadata": {},
     "output_type": "execute_result"
    },
    {
     "data": {
      "image/png": "[encoded data removed]",
      "text/plain": [
       "<Figure size 640x480 with 1 Axes>"
      ]
     },
     "metadata": {},
     "output_type": "display_data"
    }
   ],
   "source": [
    "losses.plot()"
   ]
  },
  {
   "cell_type": "code",
   "execution_count": 73,
   "id": "7a462f69",
   "metadata": {},
   "outputs": [
    {
     "name": "stdout",
     "output_type": "stream",
     "text": [
      "37/37 [==============================] - 0s 1ms/step\n"
     ]
    },
    {
     "data": {
      "text/plain": [
       "0.16028865967059505"
      ]
     },
     "execution_count": 73,
     "metadata": {},
     "output_type": "execute_result"
    }
   ],
   "source": [
    "y_pred = model.predict(X_test_mscaled)\n",
    "mean_absolute_error(y_test,y_pred)"
   ]
  },
  {
   "cell_type": "code",
   "execution_count": 41,
   "id": "2f87b13a",
   "metadata": {},
   "outputs": [
    {
     "data": {
      "text/plain": [
       "(1162,)"
      ]
     },
     "execution_count": 41,
     "metadata": {},
     "output_type": "execute_result"
    }
   ],
   "source": [
    "y_test.shape"
   ]
  },
  {
   "cell_type": "code",
   "execution_count": 74,
   "id": "39e19124",
   "metadata": {},
   "outputs": [],
   "source": [
    "model = Sequential()\n",
    "\n",
    "# input layer\n",
    "model.add(Dense(12,  activation='relu',input_shape=(X_train_mscaled.shape[1],)))\n",
    "model.add(Dropout(0.2))\n",
    "\n",
    "# hidden layer\n",
    "model.add(Dense(6, activation='relu'))\n",
    "model.add(Dropout(0.2))\n",
    "\n",
    "# output layer\n",
    "model.add(Dense(units=1))\n",
    "\n",
    "# Compile model\n",
    "model.compile(loss='mae', optimizer='adam',metrics = 'mean_absolute_error')"
   ]
  },
  {
   "cell_type": "code",
   "execution_count": 75,
   "id": "68801107",
   "metadata": {},
   "outputs": [],
   "source": [
    "early_stop = EarlyStopping(monitor='val_mean_absolute_error',patience=10)"
   ]
  },
  {
   "cell_type": "code",
   "execution_count": 76,
   "id": "6e3738a7",
   "metadata": {},
   "outputs": [
    {
     "name": "stdout",
     "output_type": "stream",
     "text": [
      "Epoch 1/100\n",
      "434/434 [==============================] - 2s 2ms/step - loss: 0.2309 - mean_absolute_error: 0.2309 - val_loss: 0.1925 - val_mean_absolute_error: 0.1925\n",
      "Epoch 2/100\n",
      "434/434 [==============================] - 1s 2ms/step - loss: 0.1834 - mean_absolute_error: 0.1834 - val_loss: 0.1812 - val_mean_absolute_error: 0.1812\n",
      "Epoch 3/100\n",
      "434/434 [==============================] - 1s 2ms/step - loss: 0.1748 - mean_absolute_error: 0.1748 - val_loss: 0.1779 - val_mean_absolute_error: 0.1779\n",
      "Epoch 4/100\n",
      "434/434 [==============================] - 1s 2ms/step - loss: 0.1713 - mean_absolute_error: 0.1713 - val_loss: 0.1750 - val_mean_absolute_error: 0.1750\n",
      "Epoch 5/100\n",
      "434/434 [==============================] - 1s 2ms/step - loss: 0.1694 - mean_absolute_error: 0.1694 - val_loss: 0.1798 - val_mean_absolute_error: 0.1798\n",
      "Epoch 6/100\n",
      "434/434 [==============================] - 1s 2ms/step - loss: 0.1669 - mean_absolute_error: 0.1669 - val_loss: 0.1727 - val_mean_absolute_error: 0.1727\n",
      "Epoch 7/100\n",
      "434/434 [==============================] - 1s 2ms/step - loss: 0.1664 - mean_absolute_error: 0.1664 - val_loss: 0.1703 - val_mean_absolute_error: 0.1703\n",
      "Epoch 8/100\n",
      "434/434 [==============================] - 1s 2ms/step - loss: 0.1656 - mean_absolute_error: 0.1656 - val_loss: 0.1730 - val_mean_absolute_error: 0.1730\n",
      "Epoch 9/100\n",
      "434/434 [==============================] - 1s 2ms/step - loss: 0.1642 - mean_absolute_error: 0.1642 - val_loss: 0.1716 - val_mean_absolute_error: 0.1716\n",
      "Epoch 10/100\n",
      "434/434 [==============================] - 1s 2ms/step - loss: 0.1631 - mean_absolute_error: 0.1631 - val_loss: 0.1729 - val_mean_absolute_error: 0.1729\n",
      "Epoch 11/100\n",
      "434/434 [==============================] - 1s 2ms/step - loss: 0.1619 - mean_absolute_error: 0.1619 - val_loss: 0.1666 - val_mean_absolute_error: 0.1666\n",
      "Epoch 12/100\n",
      "434/434 [==============================] - 1s 2ms/step - loss: 0.1609 - mean_absolute_error: 0.1609 - val_loss: 0.1659 - val_mean_absolute_error: 0.1659\n",
      "Epoch 13/100\n",
      "434/434 [==============================] - 1s 2ms/step - loss: 0.1617 - mean_absolute_error: 0.1617 - val_loss: 0.1675 - val_mean_absolute_error: 0.1675\n",
      "Epoch 14/100\n",
      "434/434 [==============================] - 1s 2ms/step - loss: 0.1607 - mean_absolute_error: 0.1607 - val_loss: 0.1699 - val_mean_absolute_error: 0.1699\n",
      "Epoch 15/100\n",
      "434/434 [==============================] - 1s 2ms/step - loss: 0.1609 - mean_absolute_error: 0.1609 - val_loss: 0.1663 - val_mean_absolute_error: 0.1663\n",
      "Epoch 16/100\n",
      "434/434 [==============================] - 1s 2ms/step - loss: 0.1601 - mean_absolute_error: 0.1601 - val_loss: 0.1630 - val_mean_absolute_error: 0.1630\n",
      "Epoch 17/100\n",
      "434/434 [==============================] - 1s 2ms/step - loss: 0.1597 - mean_absolute_error: 0.1597 - val_loss: 0.1650 - val_mean_absolute_error: 0.1650\n",
      "Epoch 18/100\n",
      "434/434 [==============================] - 1s 2ms/step - loss: 0.1591 - mean_absolute_error: 0.1591 - val_loss: 0.1635 - val_mean_absolute_error: 0.1635\n",
      "Epoch 19/100\n",
      "434/434 [==============================] - 1s 2ms/step - loss: 0.1581 - mean_absolute_error: 0.1581 - val_loss: 0.1604 - val_mean_absolute_error: 0.1604\n",
      "Epoch 20/100\n",
      "434/434 [==============================] - 1s 2ms/step - loss: 0.1576 - mean_absolute_error: 0.1576 - val_loss: 0.1608 - val_mean_absolute_error: 0.1608\n",
      "Epoch 21/100\n",
      "434/434 [==============================] - 1s 2ms/step - loss: 0.1578 - mean_absolute_error: 0.1578 - val_loss: 0.1617 - val_mean_absolute_error: 0.1617\n",
      "Epoch 22/100\n",
      "434/434 [==============================] - 1s 2ms/step - loss: 0.1582 - mean_absolute_error: 0.1582 - val_loss: 0.1615 - val_mean_absolute_error: 0.1615\n",
      "Epoch 23/100\n",
      "434/434 [==============================] - 1s 2ms/step - loss: 0.1572 - mean_absolute_error: 0.1572 - val_loss: 0.1595 - val_mean_absolute_error: 0.1595\n",
      "Epoch 24/100\n",
      "434/434 [==============================] - 1s 2ms/step - loss: 0.1571 - mean_absolute_error: 0.1571 - val_loss: 0.1598 - val_mean_absolute_error: 0.1598\n",
      "Epoch 25/100\n",
      "434/434 [==============================] - 1s 2ms/step - loss: 0.1569 - mean_absolute_error: 0.1569 - val_loss: 0.1606 - val_mean_absolute_error: 0.1606\n",
      "Epoch 26/100\n",
      "434/434 [==============================] - 1s 2ms/step - loss: 0.1571 - mean_absolute_error: 0.1571 - val_loss: 0.1603 - val_mean_absolute_error: 0.1603\n",
      "Epoch 27/100\n",
      "434/434 [==============================] - 1s 2ms/step - loss: 0.1564 - mean_absolute_error: 0.1564 - val_loss: 0.1630 - val_mean_absolute_error: 0.1630\n",
      "Epoch 28/100\n",
      "434/434 [==============================] - 1s 2ms/step - loss: 0.1569 - mean_absolute_error: 0.1569 - val_loss: 0.1594 - val_mean_absolute_error: 0.1594\n",
      "Epoch 29/100\n",
      "434/434 [==============================] - 1s 2ms/step - loss: 0.1564 - mean_absolute_error: 0.1564 - val_loss: 0.1594 - val_mean_absolute_error: 0.1594\n",
      "Epoch 30/100\n",
      "434/434 [==============================] - 1s 2ms/step - loss: 0.1559 - mean_absolute_error: 0.1559 - val_loss: 0.1635 - val_mean_absolute_error: 0.1635\n",
      "Epoch 31/100\n",
      "434/434 [==============================] - 1s 2ms/step - loss: 0.1561 - mean_absolute_error: 0.1561 - val_loss: 0.1591 - val_mean_absolute_error: 0.1591\n",
      "Epoch 32/100\n",
      "434/434 [==============================] - 1s 2ms/step - loss: 0.1561 - mean_absolute_error: 0.1561 - val_loss: 0.1591 - val_mean_absolute_error: 0.1591\n",
      "Epoch 33/100\n",
      "434/434 [==============================] - 1s 2ms/step - loss: 0.1560 - mean_absolute_error: 0.1560 - val_loss: 0.1589 - val_mean_absolute_error: 0.1589\n",
      "Epoch 34/100\n",
      "434/434 [==============================] - 1s 2ms/step - loss: 0.1556 - mean_absolute_error: 0.1556 - val_loss: 0.1567 - val_mean_absolute_error: 0.1567\n",
      "Epoch 35/100\n",
      "434/434 [==============================] - 1s 2ms/step - loss: 0.1564 - mean_absolute_error: 0.1564 - val_loss: 0.1591 - val_mean_absolute_error: 0.1591\n",
      "Epoch 36/100\n",
      "434/434 [==============================] - 1s 2ms/step - loss: 0.1562 - mean_absolute_error: 0.1562 - val_loss: 0.1587 - val_mean_absolute_error: 0.1587\n",
      "Epoch 37/100\n",
      "434/434 [==============================] - 1s 2ms/step - loss: 0.1561 - mean_absolute_error: 0.1561 - val_loss: 0.1604 - val_mean_absolute_error: 0.1604\n",
      "Epoch 38/100\n",
      "434/434 [==============================] - 1s 2ms/step - loss: 0.1557 - mean_absolute_error: 0.1557 - val_loss: 0.1595 - val_mean_absolute_error: 0.1595\n",
      "Epoch 39/100\n",
      "434/434 [==============================] - 1s 2ms/step - loss: 0.1559 - mean_absolute_error: 0.1559 - val_loss: 0.1585 - val_mean_absolute_error: 0.1585\n",
      "Epoch 40/100\n",
      "434/434 [==============================] - 1s 2ms/step - loss: 0.1560 - mean_absolute_error: 0.1560 - val_loss: 0.1577 - val_mean_absolute_error: 0.1577\n",
      "Epoch 41/100\n",
      "434/434 [==============================] - 1s 2ms/step - loss: 0.1565 - mean_absolute_error: 0.1565 - val_loss: 0.1560 - val_mean_absolute_error: 0.1560\n",
      "Epoch 42/100\n",
      "434/434 [==============================] - 1s 2ms/step - loss: 0.1557 - mean_absolute_error: 0.1557 - val_loss: 0.1596 - val_mean_absolute_error: 0.1596\n",
      "Epoch 43/100\n",
      "434/434 [==============================] - 1s 2ms/step - loss: 0.1556 - mean_absolute_error: 0.1556 - val_loss: 0.1610 - val_mean_absolute_error: 0.1610\n",
      "Epoch 44/100\n",
      "434/434 [==============================] - 1s 2ms/step - loss: 0.1552 - mean_absolute_error: 0.1552 - val_loss: 0.1633 - val_mean_absolute_error: 0.1633\n",
      "Epoch 45/100\n",
      "434/434 [==============================] - 1s 2ms/step - loss: 0.1560 - mean_absolute_error: 0.1560 - val_loss: 0.1565 - val_mean_absolute_error: 0.1565\n",
      "Epoch 46/100\n",
      "434/434 [==============================] - 1s 2ms/step - loss: 0.1560 - mean_absolute_error: 0.1560 - val_loss: 0.1632 - val_mean_absolute_error: 0.1632\n",
      "Epoch 47/100\n",
      "434/434 [==============================] - 1s 2ms/step - loss: 0.1555 - mean_absolute_error: 0.1555 - val_loss: 0.1571 - val_mean_absolute_error: 0.1571\n",
      "Epoch 48/100\n",
      "434/434 [==============================] - 1s 2ms/step - loss: 0.1558 - mean_absolute_error: 0.1558 - val_loss: 0.1617 - val_mean_absolute_error: 0.1617\n",
      "Epoch 49/100\n",
      "434/434 [==============================] - 1s 2ms/step - loss: 0.1556 - mean_absolute_error: 0.1556 - val_loss: 0.1568 - val_mean_absolute_error: 0.1568\n",
      "Epoch 50/100\n",
      "434/434 [==============================] - 1s 2ms/step - loss: 0.1555 - mean_absolute_error: 0.1555 - val_loss: 0.1590 - val_mean_absolute_error: 0.1590\n",
      "Epoch 51/100\n",
      "434/434 [==============================] - 1s 2ms/step - loss: 0.1556 - mean_absolute_error: 0.1556 - val_loss: 0.1592 - val_mean_absolute_error: 0.1592\n"
     ]
    },
    {
     "data": {
      "text/plain": [
       "<keras.callbacks.History at 0x15dc7d78310>"
      ]
     },
     "execution_count": 76,
     "metadata": {},
     "output_type": "execute_result"
    }
   ],
   "source": [
    "model.fit(callbacks=[early_stop],\n",
    "    x=X_train_mscaled, \n",
    "    y=y_train,\n",
    "    epochs=100, \n",
    "    validation_data=(X_test_mscaled, y_test))"
   ]
  },
  {
   "cell_type": "code",
   "execution_count": 77,
   "id": "41854074",
   "metadata": {},
   "outputs": [
    {
     "data": {
      "text/plain": [
       "<Axes: >"
      ]
     },
     "execution_count": 77,
     "metadata": {},
     "output_type": "execute_result"
    },
    {
     "data": {
      "image/png": "[encoded data removed]",
      "text/plain": [
       "<Figure size 640x480 with 1 Axes>"
      ]
     },
     "metadata": {},
     "output_type": "display_data"
    }
   ],
   "source": [
    "losses = pd.DataFrame(model.history.history)\n",
    "losses.plot()"
   ]
  },
  {
   "cell_type": "code",
   "execution_count": 79,
   "id": "b6f0a5a8",
   "metadata": {
    "scrolled": true
   },
   "outputs": [
    {
     "name": "stdout",
     "output_type": "stream",
     "text": [
      "Model: \"sequential_13\"\n",
      "_________________________________________________________________\n",
      " Layer (type)                Output Shape              Param #   \n",
      "=================================================================\n",
      " dense_40 (Dense)            (None, 12)                156       \n",
      "                                                                 \n",
      " dropout_22 (Dropout)        (None, 12)                0         \n",
      "                                                                 \n",
      " dense_41 (Dense)            (None, 6)                 78        \n",
      "                                                                 \n",
      " dropout_23 (Dropout)        (None, 6)                 0         \n",
      "                                                                 \n",
      " dense_42 (Dense)            (None, 1)                 7         \n",
      "                                                                 \n",
      "=================================================================\n",
      "Total params: 241\n",
      "Trainable params: 241\n",
      "Non-trainable params: 0\n",
      "_________________________________________________________________\n"
     ]
    }
   ],
   "source": [
    "model.summary()"
   ]
  },
  {
   "cell_type": "code",
   "execution_count": 78,
   "id": "eb36c0d8",
   "metadata": {},
   "outputs": [
    {
     "name": "stdout",
     "output_type": "stream",
     "text": [
      "37/37 [==============================] - 0s 1ms/step\n"
     ]
    },
    {
     "data": {
      "text/plain": [
       "0.15918565473357496"
      ]
     },
     "execution_count": 78,
     "metadata": {},
     "output_type": "execute_result"
    }
   ],
   "source": [
    "y_pred1 = model.predict(X_test_mscaled)\n",
    "mean_absolute_error(y_test,y_pred1)"
   ]
  },
  {
   "cell_type": "markdown",
   "id": "ce1db66b",
   "metadata": {},
   "source": [
    "- Below are shown all the results of this project"
   ]
  },
  {
   "cell_type": "markdown",
   "id": "ff0231c2",
   "metadata": {},
   "source": [
    "#### Non-neural networks"
   ]
  },
  {
   "cell_type": "markdown",
   "id": "ca81f595",
   "metadata": {},
   "source": [
    "|       | Tree   | KNN    | SVR    | RanFor | LinReg |\n",
    "|-------|--------|----|--------|--------|--------|\n",
    "|__MAE__|0.1618  |0.1414  |0.149   | 0.1383 | 0.1604 |"
   ]
  },
  {
   "cell_type": "markdown",
   "id": "bf50e715",
   "metadata": {},
   "source": [
    "#### Neural networks"
   ]
  },
  {
   "cell_type": "markdown",
   "id": "06e21022",
   "metadata": {},
   "source": [
    "|       | ANN-2layers   | ANN-dropout & early stop    |\n",
    "|---|---|---|\n",
    "|__MAE__|0.1602  |0.1585|"
   ]
  },
  {
   "cell_type": "markdown",
   "id": "91407db2",
   "metadata": {},
   "source": [
    "- Random forests seems to provide the best results compared to the other techniques including nn"
   ]
  },
  {
   "cell_type": "markdown",
   "id": "9c630cd4",
   "metadata": {},
   "source": [
    "- As known neural networks ran fast and efficiently and yield very good results in sort time"
   ]
  }
 ],
 "metadata": {
  "kernelspec": {
   "display_name": "Python 3 (ipykernel)",
   "language": "python",
   "name": "python3"
  },
  "language_info": {
   "codemirror_mode": {
    "name": "ipython",
    "version": 3
   },
   "file_extension": ".py",
   "mimetype": "text/x-python",
   "name": "python",
   "nbconvert_exporter": "python",
   "pygments_lexer": "ipython3",
   "version": "3.10.9"
  }
 },
 "nbformat": 4,
 "nbformat_minor": 5
}
